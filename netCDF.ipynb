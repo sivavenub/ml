{
 "cells": [
  {
   "cell_type": "code",
   "execution_count": 1,
   "metadata": {},
   "outputs": [],
   "source": [
    "from netCDF4 import Dataset\n",
    "import pandas as pd\n",
    "from netCDF4 import num2date, date2num, date2index\n",
    "import numpy as np\n",
    "import numpy.ma as ma"
   ]
  },
  {
   "cell_type": "code",
   "execution_count": 2,
   "metadata": {},
   "outputs": [
    {
     "name": "stdout",
     "output_type": "stream",
     "text": [
      " Volume in drive C has no label.\n",
      " Volume Serial Number is D4DF-7D72\n",
      "\n",
      " Directory of C:\\Users\\win10\\ml\n",
      "\n",
      "01/30/2019  01:16 PM    <DIR>          .\n",
      "01/30/2019  01:16 PM    <DIR>          ..\n",
      "01/28/2019  12:08 PM    <DIR>          .ipynb_checkpoints\n",
      "01/29/2019  05:34 PM    <DIR>          __pycache__\n",
      "01/16/2019  06:51 PM         1,272,108 19720010.nc\n",
      "01/16/2019  06:45 PM        12,066,726 20120101022144-NODC-L3C_GHRSST-SSTskin-AVHRR_Pathfinder-PFV5.2_NOAA19_G_2012001_night-v02.0-fv01.0.nc\n",
      "01/18/2019  01:24 PM    <DIR>          air.departure.sig995.2012.Data\n",
      "01/04/2019  06:43 PM        30,793,837 air.departure.sig995.2012.nc\n",
      "01/04/2019  06:43 PM         7,700,344 air.sig995.2012.nc\n",
      "01/16/2019  04:06 PM           127,186 bokeh_plot (1).png\n",
      "01/16/2019  03:16 PM            59,010 bokeh_plot.png\n",
      "01/30/2019  01:16 PM            16,458 contourplotly.ipynb\n",
      "01/28/2019  11:12 AM       227,722,764 csv_file.csv\n",
      "01/18/2019  01:21 PM    <DIR>          darwin_2012.Data\n",
      "01/04/2019  06:43 PM            30,744 darwin_2012.nc\n",
      "01/16/2019  06:03 PM           409,008 diigray.tif\n",
      "01/23/2019  06:30 PM    <DIR>          Documents\n",
      "01/04/2019  06:36 PM           599,308 download.png\n",
      "01/28/2019  11:40 AM            27,281 elevation_plot.ipynb\n",
      "01/28/2019  11:42 AM         1,458,255 EQ830014.dat\n",
      "01/28/2019  11:42 AM         1,527,314 EQ830016.dat\n",
      "01/17/2019  06:43 PM    <DIR>          gebco bathymetry data\n",
      "01/15/2019  04:59 PM            11,410 Gridded_Datasets_I.ipynb.txt\n",
      "01/18/2019  01:22 PM    <DIR>          GRIDONE_2D.Data\n",
      "11/25/2014  11:28 AM       466,885,748 GRIDONE_2D.nc\n",
      "01/15/2019  07:00 PM         1,036,463 H-H1_LOSC_4_V1-1126259446-32.hdf5\n",
      "01/30/2019  01:16 PM            93,072 masked_arrays_plotting_netcdf_file.ipynb\n",
      "01/15/2019  06:07 PM           254,670 memory_error.jpg\n",
      "08/27/2017  10:58 PM        23,147,564 MobileNetSSD_deploy.caffemodel\n",
      "08/27/2017  10:58 PM            29,353 MobileNetSSD_deploy.prototxt.txt\n",
      "01/30/2019  01:16 PM             1,032 multiple_files_creation.ipynb\n",
      "01/30/2019  01:16 PM            45,742 ndarray.ipynb\n",
      "01/28/2019  04:33 PM            19,147 netCDF.ipynb\n",
      "01/16/2019  11:59 AM            10,696 netcdf_example.py\n",
      "01/28/2019  11:12 AM         7,779,681 netcdf_file.nc\n",
      "01/18/2019  12:10 PM             2,112 plotlydemo.ipynb\n",
      "01/28/2019  12:08 PM           186,779 plotting.ipynb\n",
      "01/29/2019  05:32 PM             4,968 plotting.py\n",
      "01/17/2019  03:17 PM            89,442 plotting_with_matplotlib.ipynb\n",
      "01/17/2019  03:54 PM        12,387,595 progit.pdf\n",
      "01/28/2019  08:22 PM             3,408 real_time_object_detection.py\n",
      "09/04/2017  01:42 AM    <DIR>          real-time-object-detection\n",
      "01/24/2019  05:46 PM            94,012 RL1.ipynb\n",
      "01/29/2019  04:15 PM             4,204 simple_rooms.py\n",
      "01/29/2019  05:36 PM            11,421 simulation.py\n",
      "01/24/2019  06:37 PM             9,151 ten_armed_testbed.py\n",
      "01/28/2019  11:14 AM           861,371 XARRAY.ipynb\n",
      "11/09/2018  05:48 PM    <DIR>          yolo-object-detection\n",
      "              37 File(s)    796,779,384 bytes\n",
      "              11 Dir(s)  56,125,157,376 bytes free\n"
     ]
    }
   ],
   "source": [
    "ls"
   ]
  },
  {
   "cell_type": "code",
   "execution_count": 3,
   "metadata": {},
   "outputs": [],
   "source": [
    "dataset = Dataset('darwin_2012.nc')"
   ]
  },
  {
   "cell_type": "code",
   "execution_count": 4,
   "metadata": {},
   "outputs": [
    {
     "data": {
      "text/plain": [
       "'NETCDF4'"
      ]
     },
     "execution_count": 4,
     "metadata": {},
     "output_type": "execute_result"
    }
   ],
   "source": [
    "dataset.file_format"
   ]
  },
  {
   "cell_type": "code",
   "execution_count": 5,
   "metadata": {},
   "outputs": [
    {
     "data": {
      "text/plain": [
       "OrderedDict([('time',\n",
       "              <class 'netCDF4._netCDF4.Dimension'> (unlimited): name = 'time', size = 366)])"
      ]
     },
     "execution_count": 5,
     "metadata": {},
     "output_type": "execute_result"
    }
   ],
   "source": [
    "dataset.dimensions"
   ]
  },
  {
   "cell_type": "code",
   "execution_count": 6,
   "metadata": {},
   "outputs": [
    {
     "data": {
      "text/plain": [
       "odict_items([('time', <class 'netCDF4._netCDF4.Dimension'> (unlimited): name = 'time', size = 366\n",
       ")])"
      ]
     },
     "execution_count": 6,
     "metadata": {},
     "output_type": "execute_result"
    }
   ],
   "source": [
    "dataset.dimensions.items()"
   ]
  },
  {
   "cell_type": "code",
   "execution_count": 7,
   "metadata": {},
   "outputs": [
    {
     "data": {
      "text/plain": [
       "odict_values([<class 'netCDF4._netCDF4.Dimension'> (unlimited): name = 'time', size = 366\n",
       "])"
      ]
     },
     "execution_count": 7,
     "metadata": {},
     "output_type": "execute_result"
    }
   ],
   "source": [
    "dataset.dimensions.values()"
   ]
  },
  {
   "cell_type": "code",
   "execution_count": 8,
   "metadata": {},
   "outputs": [
    {
     "data": {
      "text/plain": [
       "odict_keys(['time'])"
      ]
     },
     "execution_count": 8,
     "metadata": {},
     "output_type": "execute_result"
    }
   ],
   "source": [
    "dataset.dimensions.keys()"
   ]
  },
  {
   "cell_type": "code",
   "execution_count": 9,
   "metadata": {},
   "outputs": [
    {
     "data": {
      "text/plain": [
       "<class 'netCDF4._netCDF4.Dimension'> (unlimited): name = 'time', size = 366"
      ]
     },
     "execution_count": 9,
     "metadata": {},
     "output_type": "execute_result"
    }
   ],
   "source": [
    " dataset.dimensions['time']"
   ]
  },
  {
   "cell_type": "code",
   "execution_count": 10,
   "metadata": {},
   "outputs": [
    {
     "data": {
      "text/plain": [
       "OrderedDict([('time', <class 'netCDF4._netCDF4.Variable'>\n",
       "              float64 time(time)\n",
       "                  units: hours since 1-1-1 00:00:0.0\n",
       "                  long_name: Time\n",
       "                  actual_range: [17628096. 17636856.]\n",
       "                  delta_t: 0000-00-01 00:00:00\n",
       "                  standard_name: time\n",
       "                  axis: T\n",
       "                  avg_period: 0000-00-01 00:00:00\n",
       "              unlimited dimensions: time\n",
       "              current shape = (366,)\n",
       "              filling on, default _FillValue of 9.969209968386869e+36 used),\n",
       "             ('air', <class 'netCDF4._netCDF4.Variable'>\n",
       "              float64 air(time)\n",
       "                  units: degK\n",
       "                  long_name: mean Daily Air temperature\n",
       "                  var_desc: Air temperature\n",
       "                  statistic: Mean\n",
       "              M\n",
       "                  level_desc: Surface\n",
       "              unlimited dimensions: time\n",
       "              current shape = (366,)\n",
       "              filling on, default _FillValue of 9.969209968386869e+36 used)])"
      ]
     },
     "execution_count": 10,
     "metadata": {},
     "output_type": "execute_result"
    }
   ],
   "source": [
    "dataset.variables"
   ]
  },
  {
   "cell_type": "code",
   "execution_count": 11,
   "metadata": {},
   "outputs": [
    {
     "data": {
      "text/plain": [
       "odict_keys(['time', 'air'])"
      ]
     },
     "execution_count": 11,
     "metadata": {},
     "output_type": "execute_result"
    }
   ],
   "source": [
    "dataset.variables.keys()"
   ]
  },
  {
   "cell_type": "code",
   "execution_count": 12,
   "metadata": {},
   "outputs": [
    {
     "data": {
      "text/plain": [
       "<class 'netCDF4._netCDF4.Variable'>\n",
       "float64 air(time)\n",
       "    units: degK\n",
       "    long_name: mean Daily Air temperature\n",
       "    var_desc: Air temperature\n",
       "    statistic: Mean\n",
       "M\n",
       "    level_desc: Surface\n",
       "unlimited dimensions: time\n",
       "current shape = (366,)\n",
       "filling on, default _FillValue of 9.969209968386869e+36 used"
      ]
     },
     "execution_count": 12,
     "metadata": {},
     "output_type": "execute_result"
    }
   ],
   "source": [
    "dataset.variables['air']"
   ]
  },
  {
   "cell_type": "code",
   "execution_count": 13,
   "metadata": {},
   "outputs": [
    {
     "name": "stdout",
     "output_type": "stream",
     "text": [
      "description = NCEP/NCAR Reanalysis air temperature from its value at Darwin, Australia. Data is from NMC initialized reanalysis\n",
      "(4x/day).  These are the 0.9950 sigma level values.\n"
     ]
    }
   ],
   "source": [
    "for attr in dataset.ncattrs():\n",
    "    print( attr, '=', getattr(dataset, attr))"
   ]
  },
  {
   "cell_type": "code",
   "execution_count": 14,
   "metadata": {},
   "outputs": [],
   "source": [
    "air = dataset.variables['air']\n",
    "time = dataset.variables['time']"
   ]
  },
  {
   "cell_type": "code",
   "execution_count": 15,
   "metadata": {},
   "outputs": [],
   "source": [
    "time = time[:]"
   ]
  },
  {
   "cell_type": "code",
   "execution_count": 16,
   "metadata": {},
   "outputs": [],
   "source": [
    "# time.unshare_mask"
   ]
  },
  {
   "cell_type": "code",
   "execution_count": 17,
   "metadata": {},
   "outputs": [],
   "source": [
    "t = dataset.variables['time']"
   ]
  },
  {
   "cell_type": "code",
   "execution_count": 18,
   "metadata": {},
   "outputs": [
    {
     "data": {
      "text/plain": [
       "<class 'netCDF4._netCDF4.Variable'>\n",
       "float64 time(time)\n",
       "    units: hours since 1-1-1 00:00:0.0\n",
       "    long_name: Time\n",
       "    actual_range: [17628096. 17636856.]\n",
       "    delta_t: 0000-00-01 00:00:00\n",
       "    standard_name: time\n",
       "    axis: T\n",
       "    avg_period: 0000-00-01 00:00:00\n",
       "unlimited dimensions: time\n",
       "current shape = (366,)\n",
       "filling on, default _FillValue of 9.969209968386869e+36 used"
      ]
     },
     "execution_count": 18,
     "metadata": {},
     "output_type": "execute_result"
    }
   ],
   "source": [
    "t"
   ]
  },
  {
   "cell_type": "code",
   "execution_count": 19,
   "metadata": {},
   "outputs": [],
   "source": [
    "dts = num2date(t[:], t.units, calendar='standard')"
   ]
  },
  {
   "cell_type": "code",
   "execution_count": 20,
   "metadata": {},
   "outputs": [
    {
     "data": {
      "text/plain": [
       "array([real_datetime(2012, 1, 1, 0, 0)], dtype=object)"
      ]
     },
     "execution_count": 20,
     "metadata": {},
     "output_type": "execute_result"
    }
   ],
   "source": [
    "dts[:1,]"
   ]
  },
  {
   "cell_type": "code",
   "execution_count": 21,
   "metadata": {},
   "outputs": [
    {
     "data": {
      "text/plain": [
       "real_datetime(2012, 1, 1, 0, 0)"
      ]
     },
     "execution_count": 21,
     "metadata": {},
     "output_type": "execute_result"
    }
   ],
   "source": [
    "dts.min()"
   ]
  },
  {
   "cell_type": "code",
   "execution_count": 22,
   "metadata": {},
   "outputs": [
    {
     "data": {
      "text/plain": [
       "numpy.ndarray"
      ]
     },
     "execution_count": 22,
     "metadata": {},
     "output_type": "execute_result"
    }
   ],
   "source": [
    "type(dts)"
   ]
  },
  {
   "cell_type": "code",
   "execution_count": 23,
   "metadata": {},
   "outputs": [
    {
     "data": {
      "text/plain": [
       "[real_datetime(2012, 1, 1, 0, 0),\n",
       " real_datetime(2012, 1, 2, 0, 0),\n",
       " real_datetime(2012, 1, 3, 0, 0),\n",
       " real_datetime(2012, 1, 4, 0, 0),\n",
       " real_datetime(2012, 1, 5, 0, 0)]"
      ]
     },
     "execution_count": 23,
     "metadata": {},
     "output_type": "execute_result"
    }
   ],
   "source": [
    "dts.tolist()[:5]"
   ]
  },
  {
   "cell_type": "code",
   "execution_count": 24,
   "metadata": {},
   "outputs": [
    {
     "data": {
      "text/html": [
       "<div>\n",
       "<style scoped>\n",
       "    .dataframe tbody tr th:only-of-type {\n",
       "        vertical-align: middle;\n",
       "    }\n",
       "\n",
       "    .dataframe tbody tr th {\n",
       "        vertical-align: top;\n",
       "    }\n",
       "\n",
       "    .dataframe thead th {\n",
       "        text-align: right;\n",
       "    }\n",
       "</style>\n",
       "<table border=\"1\" class=\"dataframe\">\n",
       "  <thead>\n",
       "    <tr style=\"text-align: right;\">\n",
       "      <th></th>\n",
       "      <th>0</th>\n",
       "    </tr>\n",
       "  </thead>\n",
       "  <tbody>\n",
       "    <tr>\n",
       "      <th>0</th>\n",
       "      <td>2012-01-01</td>\n",
       "    </tr>\n",
       "    <tr>\n",
       "      <th>1</th>\n",
       "      <td>2012-01-02</td>\n",
       "    </tr>\n",
       "    <tr>\n",
       "      <th>2</th>\n",
       "      <td>2012-01-03</td>\n",
       "    </tr>\n",
       "    <tr>\n",
       "      <th>3</th>\n",
       "      <td>2012-01-04</td>\n",
       "    </tr>\n",
       "    <tr>\n",
       "      <th>4</th>\n",
       "      <td>2012-01-05</td>\n",
       "    </tr>\n",
       "  </tbody>\n",
       "</table>\n",
       "</div>"
      ],
      "text/plain": [
       "           0\n",
       "0 2012-01-01\n",
       "1 2012-01-02\n",
       "2 2012-01-03\n",
       "3 2012-01-04\n",
       "4 2012-01-05"
      ]
     },
     "execution_count": 24,
     "metadata": {},
     "output_type": "execute_result"
    }
   ],
   "source": [
    "dates = pd.DataFrame(dts)\n",
    "dates.head()"
   ]
  },
  {
   "cell_type": "code",
   "execution_count": 25,
   "metadata": {},
   "outputs": [
    {
     "name": "stdout",
     "output_type": "stream",
     "text": [
      "<class 'pandas.core.frame.DataFrame'>\n",
      "RangeIndex: 366 entries, 0 to 365\n",
      "Data columns (total 1 columns):\n",
      "0    366 non-null datetime64[ns]\n",
      "dtypes: datetime64[ns](1)\n",
      "memory usage: 2.9 KB\n"
     ]
    }
   ],
   "source": [
    "dates.info()"
   ]
  },
  {
   "cell_type": "code",
   "execution_count": 26,
   "metadata": {},
   "outputs": [
    {
     "data": {
      "text/plain": [
       "(0   2012-01-01\n",
       " dtype: datetime64[ns], 0   2012-12-31\n",
       " dtype: datetime64[ns])"
      ]
     },
     "execution_count": 26,
     "metadata": {},
     "output_type": "execute_result"
    }
   ],
   "source": [
    "dates.min(),dates.max()"
   ]
  },
  {
   "cell_type": "code",
   "execution_count": 27,
   "metadata": {},
   "outputs": [
    {
     "data": {
      "text/plain": [
       "masked_array(data=[300.6300048828125, --, --, --, --],\n",
       "             mask=[False,  True,  True,  True,  True],\n",
       "       fill_value=9.969209968386869e+36)"
      ]
     },
     "execution_count": 27,
     "metadata": {},
     "output_type": "execute_result"
    }
   ],
   "source": [
    "air[:5]"
   ]
  },
  {
   "cell_type": "code",
   "execution_count": 28,
   "metadata": {},
   "outputs": [],
   "source": [
    "df = pd.DataFrame(ma.filled(air))"
   ]
  },
  {
   "cell_type": "code",
   "execution_count": 29,
   "metadata": {},
   "outputs": [
    {
     "data": {
      "text/html": [
       "<div>\n",
       "<style scoped>\n",
       "    .dataframe tbody tr th:only-of-type {\n",
       "        vertical-align: middle;\n",
       "    }\n",
       "\n",
       "    .dataframe tbody tr th {\n",
       "        vertical-align: top;\n",
       "    }\n",
       "\n",
       "    .dataframe thead th {\n",
       "        text-align: right;\n",
       "    }\n",
       "</style>\n",
       "<table border=\"1\" class=\"dataframe\">\n",
       "  <thead>\n",
       "    <tr style=\"text-align: right;\">\n",
       "      <th></th>\n",
       "      <th>0</th>\n",
       "    </tr>\n",
       "  </thead>\n",
       "  <tbody>\n",
       "    <tr>\n",
       "      <th>1</th>\n",
       "      <td>9.969210e+36</td>\n",
       "    </tr>\n",
       "  </tbody>\n",
       "</table>\n",
       "</div>"
      ],
      "text/plain": [
       "              0\n",
       "1  9.969210e+36"
      ]
     },
     "execution_count": 29,
     "metadata": {},
     "output_type": "execute_result"
    }
   ],
   "source": [
    "df[1:2]"
   ]
  },
  {
   "cell_type": "code",
   "execution_count": 30,
   "metadata": {},
   "outputs": [
    {
     "data": {
      "text/html": [
       "<div>\n",
       "<style scoped>\n",
       "    .dataframe tbody tr th:only-of-type {\n",
       "        vertical-align: middle;\n",
       "    }\n",
       "\n",
       "    .dataframe tbody tr th {\n",
       "        vertical-align: top;\n",
       "    }\n",
       "\n",
       "    .dataframe thead th {\n",
       "        text-align: right;\n",
       "    }\n",
       "</style>\n",
       "<table border=\"1\" class=\"dataframe\">\n",
       "  <thead>\n",
       "    <tr style=\"text-align: right;\">\n",
       "      <th></th>\n",
       "      <th>0</th>\n",
       "    </tr>\n",
       "  </thead>\n",
       "  <tbody>\n",
       "    <tr>\n",
       "      <th>0</th>\n",
       "      <td>3.006300e+02</td>\n",
       "    </tr>\n",
       "    <tr>\n",
       "      <th>1</th>\n",
       "      <td>9.969210e+36</td>\n",
       "    </tr>\n",
       "    <tr>\n",
       "      <th>2</th>\n",
       "      <td>9.969210e+36</td>\n",
       "    </tr>\n",
       "    <tr>\n",
       "      <th>3</th>\n",
       "      <td>9.969210e+36</td>\n",
       "    </tr>\n",
       "    <tr>\n",
       "      <th>4</th>\n",
       "      <td>9.969210e+36</td>\n",
       "    </tr>\n",
       "  </tbody>\n",
       "</table>\n",
       "</div>"
      ],
      "text/plain": [
       "              0\n",
       "0  3.006300e+02\n",
       "1  9.969210e+36\n",
       "2  9.969210e+36\n",
       "3  9.969210e+36\n",
       "4  9.969210e+36"
      ]
     },
     "execution_count": 30,
     "metadata": {},
     "output_type": "execute_result"
    }
   ],
   "source": [
    "df.head()"
   ]
  },
  {
   "cell_type": "code",
   "execution_count": null,
   "metadata": {},
   "outputs": [],
   "source": []
  },
  {
   "cell_type": "code",
   "execution_count": null,
   "metadata": {},
   "outputs": [],
   "source": []
  }
 ],
 "metadata": {
  "kernelspec": {
   "display_name": "Python 3",
   "language": "python",
   "name": "python3"
  },
  "language_info": {
   "codemirror_mode": {
    "name": "ipython",
    "version": 3
   },
   "file_extension": ".py",
   "mimetype": "text/x-python",
   "name": "python",
   "nbconvert_exporter": "python",
   "pygments_lexer": "ipython3",
   "version": "3.6.8"
  }
 },
 "nbformat": 4,
 "nbformat_minor": 2
}
