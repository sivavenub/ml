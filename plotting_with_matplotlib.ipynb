{
 "cells": [
  {
   "cell_type": "markdown",
   "metadata": {},
   "source": [
    "The General Bathymetric Chart of the Oceans is a compilation of a ship depth soundings and\n",
    "satellite gravity data and images.\n",
    "- Using quality-controlled data to begin with, values between\n",
    "sounded depths have been interpolated with gravity data obtained by satellites.\n",
    "Source Identifier (SID) Grid describes which measurements are from soundings or predictions"
   ]
  },
  {
   "cell_type": "markdown",
   "metadata": {},
   "source": [
    "## Summary\n",
    "- Data Format: netCDF-3\n",
    "- Angular resolution: 30sec and 1◦ grids\n",
    "\n",
    "### Processing Remote Sensing Data with Python Documentation, Release 1\n",
    "- (0,0) position at northwest corner of file\n",
    "- Grid pixels are center-registered\n",
    "- Data organization: Single data file for whole globe\n",
    "– 21,600 rows x 43,200 columns = 933,120,000 data points\n",
    "- Units: depth in meters. Bathymetric depths are negative and topographic positive\n",
    "- Date Range: Dates of soundings vary. Most recent 2010\n",
    "- Data quality control: separate file with SID grid of data sources and quality"
   ]
  },
  {
   "cell_type": "markdown",
   "metadata": {},
   "source": [
    "- You will have the option of downloading either\n",
    "the gebco_08.nc file for the 30sec gridded data or the gridone.nc file for the 1◦.\n",
    "\n",
    "- You may also download the SID grid which contains flags corresponding to each data point as\n",
    "to whether it is a sounding or interpolated, and the quality of each."
   ]
  },
  {
   "cell_type": "code",
   "execution_count": 1,
   "metadata": {},
   "outputs": [],
   "source": [
    "import numpy as np\n",
    "import pandas as pd\n",
    "import matplotlib.pyplot as plt\n",
    "import xarray as xr\n",
    "import cartopy.crs as ccrs\n",
    "from netCDF4 import Dataset as dt # note the change of case in netCDF4"
   ]
  },
  {
   "cell_type": "code",
   "execution_count": 2,
   "metadata": {},
   "outputs": [
    {
     "data": {
      "text/plain": [
       "<xarray.DataArray 'elevation' (lat: 10801, lon: 21601)>\n",
       "[233312401 values with dtype=float32]\n",
       "Coordinates:\n",
       "  * lat      (lat) float64 -90.0 -89.98 -89.97 -89.95 ... 89.95 89.97 89.98 90.0\n",
       "  * lon      (lon) float64 -180.0 -180.0 -180.0 -179.9 ... 180.0 180.0 180.0\n",
       "Attributes:\n",
       "    long_name:     Elevation relative to sea level\n",
       "    units:         m\n",
       "    actual_range:  [-10577.   8430.]"
      ]
     },
     "execution_count": 2,
     "metadata": {},
     "output_type": "execute_result"
    }
   ],
   "source": [
    "no2 = xr.open_dataarray(\"GRIDONE_2D.nc\")\n",
    "no2"
   ]
  },
  {
   "cell_type": "code",
   "execution_count": 3,
   "metadata": {},
   "outputs": [],
   "source": [
    "df = no2.to_dataframe()"
   ]
  },
  {
   "cell_type": "code",
   "execution_count": 4,
   "metadata": {},
   "outputs": [
    {
     "data": {
      "text/plain": [
       "(-10577.0, 8430.0, -591.4473876953125)"
      ]
     },
     "execution_count": 4,
     "metadata": {},
     "output_type": "execute_result"
    }
   ],
   "source": [
    "df['elevation'].min(),df['elevation'].max(),df['elevation'].mean()"
   ]
  },
  {
   "cell_type": "code",
   "execution_count": 5,
   "metadata": {},
   "outputs": [
    {
     "data": {
      "text/html": [
       "<div>\n",
       "<style scoped>\n",
       "    .dataframe tbody tr th:only-of-type {\n",
       "        vertical-align: middle;\n",
       "    }\n",
       "\n",
       "    .dataframe tbody tr th {\n",
       "        vertical-align: top;\n",
       "    }\n",
       "\n",
       "    .dataframe thead th {\n",
       "        text-align: right;\n",
       "    }\n",
       "</style>\n",
       "<table border=\"1\" class=\"dataframe\">\n",
       "  <thead>\n",
       "    <tr style=\"text-align: right;\">\n",
       "      <th></th>\n",
       "      <th></th>\n",
       "      <th>elevation</th>\n",
       "    </tr>\n",
       "    <tr>\n",
       "      <th>lat</th>\n",
       "      <th>lon</th>\n",
       "      <th></th>\n",
       "    </tr>\n",
       "  </thead>\n",
       "  <tbody>\n",
       "    <tr>\n",
       "      <th>27.983333</th>\n",
       "      <th>86.933333</th>\n",
       "      <td>8430.0</td>\n",
       "    </tr>\n",
       "  </tbody>\n",
       "</table>\n",
       "</div>"
      ],
      "text/plain": [
       "                     elevation\n",
       "lat       lon                 \n",
       "27.983333 86.933333     8430.0"
      ]
     },
     "execution_count": 5,
     "metadata": {},
     "output_type": "execute_result"
    }
   ],
   "source": [
    "df[df['elevation']==8430]"
   ]
  },
  {
   "cell_type": "code",
   "execution_count": 6,
   "metadata": {},
   "outputs": [
    {
     "data": {
      "text/plain": [
       "((10801,), (21601,))"
      ]
     },
     "execution_count": 6,
     "metadata": {},
     "output_type": "execute_result"
    }
   ],
   "source": [
    "no2.indexes['lat'].shape,no2.indexes['lon'].shape"
   ]
  },
  {
   "cell_type": "code",
   "execution_count": 7,
   "metadata": {},
   "outputs": [
    {
     "data": {
      "text/plain": [
       "xarray.core.dataarray.DataArray"
      ]
     },
     "execution_count": 7,
     "metadata": {},
     "output_type": "execute_result"
    }
   ],
   "source": [
    "type(no2)"
   ]
  },
  {
   "cell_type": "code",
   "execution_count": 8,
   "metadata": {},
   "outputs": [
    {
     "data": {
      "text/plain": [
       "OrderedDict([('long_name', 'Elevation relative to sea level'),\n",
       "             ('units', 'm'),\n",
       "             ('actual_range', array([-10577.,   8430.]))])"
      ]
     },
     "execution_count": 8,
     "metadata": {},
     "output_type": "execute_result"
    }
   ],
   "source": [
    "no2.attrs"
   ]
  },
  {
   "cell_type": "code",
   "execution_count": 9,
   "metadata": {},
   "outputs": [
    {
     "data": {
      "text/plain": [
       "array([-10577.,   8430.])"
      ]
     },
     "execution_count": 9,
     "metadata": {},
     "output_type": "execute_result"
    }
   ],
   "source": [
    "no2.actual_range"
   ]
  },
  {
   "cell_type": "code",
   "execution_count": 10,
   "metadata": {},
   "outputs": [
    {
     "data": {
      "text/plain": [
       "Coordinates:\n",
       "  * lat      (lat) float64 -90.0 -89.98 -89.97 -89.95 ... 89.95 89.97 89.98 90.0\n",
       "  * lon      (lon) float64 -180.0 -180.0 -180.0 -179.9 ... 180.0 180.0 180.0"
      ]
     },
     "execution_count": 10,
     "metadata": {},
     "output_type": "execute_result"
    }
   ],
   "source": [
    "no2.coords"
   ]
  },
  {
   "cell_type": "code",
   "execution_count": 11,
   "metadata": {},
   "outputs": [
    {
     "data": {
      "text/plain": [
       "array([[ 2775.,  2775.,  2775., ...,  2775.,  2775.,  2775.],\n",
       "       [ 2774.,  2774.,  2774., ...,  2774.,  2774.,  2774.],\n",
       "       [ 2774.,  2774.,  2774., ...,  2774.,  2774.,  2774.],\n",
       "       ...,\n",
       "       [-4228., -4228., -4228., ..., -4228., -4228., -4228.],\n",
       "       [-4229., -4229., -4229., ..., -4229., -4229., -4229.],\n",
       "       [-4227., -4227., -4227., ..., -4227., -4227., -4227.]],\n",
       "      dtype=float32)"
      ]
     },
     "execution_count": 11,
     "metadata": {},
     "output_type": "execute_result"
    }
   ],
   "source": [
    "no2.data"
   ]
  },
  {
   "cell_type": "code",
   "execution_count": 12,
   "metadata": {},
   "outputs": [
    {
     "data": {
      "text/plain": [
       "('lat', 'lon')"
      ]
     },
     "execution_count": 12,
     "metadata": {},
     "output_type": "execute_result"
    }
   ],
   "source": [
    "no2.dims"
   ]
  },
  {
   "cell_type": "code",
   "execution_count": 13,
   "metadata": {},
   "outputs": [
    {
     "name": "stdout",
     "output_type": "stream",
     "text": [
      "OrderedDict([('lat', <class 'netCDF4._netCDF4.Variable'>\n",
      "float64 lat(lat)\n",
      "    standard_name: latitude\n",
      "    long_name: latitude\n",
      "    units: degrees_north\n",
      "    axis: Y\n",
      "unlimited dimensions: \n",
      "current shape = (10801,)\n",
      "filling on, default _FillValue of 9.969209968386869e+36 used\n",
      "), ('lon', <class 'netCDF4._netCDF4.Variable'>\n",
      "float64 lon(lon)\n",
      "    standard_name: longitude\n",
      "    long_name: longitude\n",
      "    units: degrees_east\n",
      "    axis: X\n",
      "unlimited dimensions: \n",
      "current shape = (21601,)\n",
      "filling on, default _FillValue of 9.969209968386869e+36 used\n",
      "), ('elevation', <class 'netCDF4._netCDF4.Variable'>\n",
      "int16 elevation(lat, lon)\n",
      "    long_name: Elevation relative to sea level\n",
      "    units: m\n",
      "    scale_factor: 1.0\n",
      "    add_offset: 0.0\n",
      "    actual_range: [-10577.   8430.]\n",
      "unlimited dimensions: \n",
      "current shape = (10801, 21601)\n",
      "filling on, default _FillValue of -32767 used\n",
      ")])\n"
     ]
    }
   ],
   "source": [
    "filestr = 'GRIDONE_2D.nc' # This is the file name\n",
    "\n",
    "ncfile = dt(filestr, 'r') # Create a netcdf object in read mode\n",
    "\n",
    "print (ncfile.variables) # To print all the variables\n",
    "\n",
    "\n"
   ]
  },
  {
   "cell_type": "code",
   "execution_count": 14,
   "metadata": {},
   "outputs": [
    {
     "name": "stdout",
     "output_type": "stream",
     "text": [
      "[-90.      -89.98333 -89.96667 ...  89.96667  89.98333  90.     ]\n"
     ]
    }
   ],
   "source": [
    "lat = np.array(ncfile.variables['lat'][:],dtype=np.float32)\n",
    "print(lat)"
   ]
  },
  {
   "cell_type": "code",
   "execution_count": 15,
   "metadata": {},
   "outputs": [
    {
     "name": "stdout",
     "output_type": "stream",
     "text": [
      "[-180.      -179.98334 -179.96666 ...  179.96666  179.98334  180.     ]\n"
     ]
    }
   ],
   "source": [
    "lon = np.array(ncfile.variables['lon'][:],dtype=np.float32)\n",
    "print(lon)"
   ]
  },
  {
   "cell_type": "code",
   "execution_count": 16,
   "metadata": {},
   "outputs": [
    {
     "name": "stdout",
     "output_type": "stream",
     "text": [
      "[[ 2775.  2775.  2775. ...  2775.  2775.  2775.]\n",
      " [ 2774.  2774.  2774. ...  2774.  2774.  2774.]\n",
      " [ 2774.  2774.  2774. ...  2774.  2774.  2774.]\n",
      " ...\n",
      " [-4228. -4228. -4228. ... -4228. -4228. -4228.]\n",
      " [-4229. -4229. -4229. ... -4229. -4229. -4229.]\n",
      " [-4227. -4227. -4227. ... -4227. -4227. -4227.]]\n"
     ]
    }
   ],
   "source": [
    "ele = np.array(ncfile.variables['elevation'][:],dtype=np.float32)\n",
    "print(ele)"
   ]
  },
  {
   "cell_type": "markdown",
   "metadata": {},
   "source": [
    "# 2-D Plots"
   ]
  },
  {
   "cell_type": "code",
   "execution_count": 17,
   "metadata": {},
   "outputs": [],
   "source": [
    "# plt.contourf(x,y,z)  # Colour Filled\n",
    "# plt.contour(x,y,z)   # Empty Coloured"
   ]
  },
  {
   "cell_type": "code",
   "execution_count": 18,
   "metadata": {},
   "outputs": [
    {
     "name": "stdout",
     "output_type": "stream",
     "text": [
      "(10801,)\n",
      "(21601,)\n",
      "(10801, 21601)\n"
     ]
    }
   ],
   "source": [
    "print(lat.shape)\n",
    "print(lon.shape)\n",
    "print(ele.shape)"
   ]
  },
  {
   "cell_type": "code",
   "execution_count": null,
   "metadata": {},
   "outputs": [],
   "source": []
  },
  {
   "cell_type": "code",
   "execution_count": 19,
   "metadata": {},
   "outputs": [
    {
     "data": {
      "image/png": "[encoded data removed]",
      "text/plain": [
       "<Figure size 1440x720 with 2 Axes>"
      ]
     },
     "metadata": {
      "needs_background": "light"
     },
     "output_type": "display_data"
    }
   ],
   "source": [
    "plt.figure(figsize=(20,10))\n",
    "plt.contourf(lon[:],lat[:5000],ele[:][:5000]) # Plotting data\n",
    "plt.colorbar()                   # Making Colour Bar visible\n",
    "plt.ylabel('lontiude')\n",
    "plt.xlabel('latitude')\n",
    "plt.title('bathymetry data map')\n",
    "plt.show()"
   ]
  },
  {
   "cell_type": "code",
   "execution_count": null,
   "metadata": {},
   "outputs": [],
   "source": []
  }
 ],
 "metadata": {
  "kernelspec": {
   "display_name": "Python 3",
   "language": "python",
   "name": "python3"
  },
  "language_info": {
   "codemirror_mode": {
    "name": "ipython",
    "version": 3
   },
   "file_extension": ".py",
   "mimetype": "text/x-python",
   "name": "python",
   "nbconvert_exporter": "python",
   "pygments_lexer": "ipython3",
   "version": "3.6.8"
  }
 },
 "nbformat": 4,
 "nbformat_minor": 2
}
