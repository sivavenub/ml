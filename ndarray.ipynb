{
 "cells": [
  {
   "cell_type": "markdown",
   "metadata": {},
   "source": [
    "# The ndarray"
   ]
  },
  {
   "cell_type": "markdown",
   "metadata": {},
   "source": [
    "Any time we are working with data, we will need the numpy package; it's central to Python in science.  Let's import it with the customary abbreviation."
   ]
  },
  {
   "cell_type": "code",
   "execution_count": 1,
   "metadata": {},
   "outputs": [],
   "source": [
    "import numpy as np"
   ]
  },
  {
   "cell_type": "markdown",
   "metadata": {},
   "source": [
    "A little function will save us some typing in this notebook.  In its definition below, notice how we are accessing 3 *attributes* of its ndarray argument."
   ]
  },
  {
   "cell_type": "code",
   "execution_count": 2,
   "metadata": {},
   "outputs": [],
   "source": [
    "def show_ndarray(x):\n",
    "    print(\"argument type is %s\" % type(x))\n",
    "    print(\"number of dimensions: %d\" % x.ndim)\n",
    "    print(\"shape is %s\" % str(x.shape))\n",
    "    print(\"dtype is %s\" % x.dtype)\n",
    "    print(\"content is\\n%s\" % x)"
   ]
  },
  {
   "cell_type": "markdown",
   "metadata": {},
   "source": [
    "Although the basic array type in numpy is the ndarray class, in practice ndarrays are almost never created by calling the class directly.  Instead, various numpy functions are used:"
   ]
  },
  {
   "cell_type": "code",
   "execution_count": 3,
   "metadata": {},
   "outputs": [
    {
     "name": "stdout",
     "output_type": "stream",
     "text": [
      "argument type is <class 'numpy.ndarray'>\n",
      "number of dimensions: 1\n",
      "shape is (5,)\n",
      "dtype is int32\n",
      "content is\n",
      "[0 1 2 3 4]\n"
     ]
    }
   ],
   "source": [
    "x = np.arange(5)\n",
    "show_ndarray(x)"
   ]
  },
  {
   "cell_type": "markdown",
   "metadata": {},
   "source": [
    "The arange function takes arguments start, stop, and step:"
   ]
  },
  {
   "cell_type": "code",
   "execution_count": 4,
   "metadata": {},
   "outputs": [
    {
     "name": "stdout",
     "output_type": "stream",
     "text": [
      "argument type is <class 'numpy.ndarray'>\n",
      "number of dimensions: 1\n",
      "shape is (23,)\n",
      "dtype is float64\n",
      "content is\n",
      "[3.2  3.31 3.42 3.53 3.64 3.75 3.86 3.97 4.08 4.19 4.3  4.41 4.52 4.63\n",
      " 4.74 4.85 4.96 5.07 5.18 5.29 5.4  5.51 5.62]\n"
     ]
    }
   ],
   "source": [
    "x = np.arange(3.2, 5.7, 0.11)\n",
    "show_ndarray(x)"
   ]
  },
  {
   "cell_type": "markdown",
   "metadata": {},
   "source": [
    "Sometimes it is more convenient to specify how many numbers you want within a range; for that, use ``linspace``.  Check the docstring to find out what additional keyword argument can be supplied."
   ]
  },
  {
   "cell_type": "code",
   "execution_count": 5,
   "metadata": {},
   "outputs": [
    {
     "name": "stdout",
     "output_type": "stream",
     "text": [
      "argument type is <class 'numpy.ndarray'>\n",
      "number of dimensions: 1\n",
      "shape is (10,)\n",
      "dtype is float64\n",
      "content is\n",
      "[0.         0.6981317  1.3962634  2.0943951  2.7925268  3.4906585\n",
      " 4.1887902  4.88692191 5.58505361 6.28318531]\n"
     ]
    }
   ],
   "source": [
    "x = np.linspace(0, np.pi * 2, num=10)\n",
    "show_ndarray(x)"
   ]
  },
  {
   "cell_type": "code",
   "execution_count": 6,
   "metadata": {},
   "outputs": [
    {
     "name": "stdout",
     "output_type": "stream",
     "text": [
      "argument type is <class 'numpy.ndarray'>\n",
      "number of dimensions: 1\n",
      "shape is (10,)\n",
      "dtype is float64\n",
      "content is\n",
      "[  1.           1.66810054   2.7825594    4.64158883   7.74263683\n",
      "  12.91549665  21.5443469   35.93813664  59.94842503 100.        ]\n"
     ]
    }
   ],
   "source": [
    "x = np.logspace(0, 2, num=10)\n",
    "show_ndarray(x)"
   ]
  },
  {
   "cell_type": "markdown",
   "metadata": {},
   "source": [
    "Arrays initialized with zeros or ones are available."
   ]
  },
  {
   "cell_type": "code",
   "execution_count": 7,
   "metadata": {},
   "outputs": [
    {
     "name": "stdout",
     "output_type": "stream",
     "text": [
      "argument type is <class 'numpy.ndarray'>\n",
      "number of dimensions: 2\n",
      "shape is (2, 3)\n",
      "dtype is float64\n",
      "content is\n",
      "[[0. 0. 0.]\n",
      " [0. 0. 0.]]\n"
     ]
    }
   ],
   "source": [
    "x = np.zeros((2, 3))\n",
    "show_ndarray(x)"
   ]
  },
  {
   "cell_type": "code",
   "execution_count": 8,
   "metadata": {},
   "outputs": [
    {
     "name": "stdout",
     "output_type": "stream",
     "text": [
      "argument type is <class 'numpy.ndarray'>\n",
      "number of dimensions: 2\n",
      "shape is (2, 3)\n",
      "dtype is int32\n",
      "content is\n",
      "[[1 1 1]\n",
      " [1 1 1]]\n"
     ]
    }
   ],
   "source": [
    "x = np.ones((2, 3), dtype=int)\n",
    "show_ndarray(x)"
   ]
  },
  {
   "cell_type": "markdown",
   "metadata": {},
   "source": [
    "There are other related functions, but we won't go through them all.\n",
    "\n",
    "A python sequence such as a list can be used to create and initialize an ndarray using the ``array`` function; a list of lists corresponds to a 2-D array, etc."
   ]
  },
  {
   "cell_type": "code",
   "execution_count": 9,
   "metadata": {},
   "outputs": [
    {
     "name": "stdout",
     "output_type": "stream",
     "text": [
      "argument type is <class 'numpy.ndarray'>\n",
      "number of dimensions: 2\n",
      "shape is (2, 3)\n",
      "dtype is float64\n",
      "content is\n",
      "[[1. 2. 3.]\n",
      " [4. 5. 6.]]\n"
     ]
    }
   ],
   "source": [
    "x = np.array([[1, 2, 3], [4, 5, 6]], dtype=float)\n",
    "show_ndarray(x)"
   ]
  },
  {
   "cell_type": "markdown",
   "metadata": {},
   "source": [
    "In the examples above we have introduced 6 numpy functions that can be used to create an ndarray from scratch; we have shown how the kind of number (the *dtype*; more about that later in this notebook) stored in the array can be specified if one does not want the default; and we have shown that ndarrays have attributes (attached variables) that provide information about the array."
   ]
  },
  {
   "cell_type": "markdown",
   "metadata": {},
   "source": [
    "## Mathematical operations"
   ]
  },
  {
   "cell_type": "markdown",
   "metadata": {},
   "source": [
    "Unlike Matlab, numpy defines array operations as element-wise by default; for example, multiplication in Matlab is matrix multiplication, but in numpy it is the multiplication of corresponding elements, equivalent to \".*\" in Matlab."
   ]
  },
  {
   "cell_type": "code",
   "execution_count": 10,
   "metadata": {},
   "outputs": [
    {
     "name": "stdout",
     "output_type": "stream",
     "text": [
      "[[ 4.  4.  4.]\n",
      " [10. 10. 10.]]\n"
     ]
    }
   ],
   "source": [
    "x = np.array([[1, 2, 3], [4, 5, 6]], dtype=float)\n",
    "y = np.array([[3, 2, 1], [6, 5, 4]], dtype=float)\n",
    "print(x + y)"
   ]
  },
  {
   "cell_type": "code",
   "execution_count": 11,
   "metadata": {},
   "outputs": [
    {
     "name": "stdout",
     "output_type": "stream",
     "text": [
      "[[ 3.  4.  3.]\n",
      " [24. 25. 24.]]\n"
     ]
    }
   ],
   "source": [
    "print(x * y)"
   ]
  },
  {
   "cell_type": "code",
   "execution_count": 12,
   "metadata": {},
   "outputs": [
    {
     "name": "stdout",
     "output_type": "stream",
     "text": [
      "[[0.33333333 1.         3.        ]\n",
      " [0.66666667 1.         1.5       ]]\n"
     ]
    }
   ],
   "source": [
    "print(x / y)"
   ]
  },
  {
   "cell_type": "code",
   "execution_count": 13,
   "metadata": {},
   "outputs": [
    {
     "name": "stdout",
     "output_type": "stream",
     "text": [
      "[[ 1.  4.  9.]\n",
      " [16. 25. 36.]]\n"
     ]
    }
   ],
   "source": [
    "print(x ** 2)"
   ]
  },
  {
   "cell_type": "markdown",
   "metadata": {},
   "source": [
    "Matrix multiplication is available, of course.  Using ``x`` and ``y`` from the previous cell, we need to transpose one or the other in order to be able to do a matrix multiplication.  We can use the ``transpose()`` method of the ndarray, or its ``.T`` abbreviation.  The simplest numpy function for matrix multiplication is ``np.dot()``."
   ]
  },
  {
   "cell_type": "code",
   "execution_count": 14,
   "metadata": {},
   "outputs": [
    {
     "name": "stdout",
     "output_type": "stream",
     "text": [
      "[[10. 28.]\n",
      " [28. 73.]]\n"
     ]
    }
   ],
   "source": [
    "print(np.dot(x, y.T))"
   ]
  },
  {
   "cell_type": "markdown",
   "metadata": {},
   "source": [
    "`x` and `y` each have 2 rows and 3 columns, so the matrix product above is a 2x2 array."
   ]
  },
  {
   "cell_type": "code",
   "execution_count": 15,
   "metadata": {},
   "outputs": [
    {
     "name": "stdout",
     "output_type": "stream",
     "text": [
      "[[27. 22. 17.]\n",
      " [36. 29. 22.]\n",
      " [45. 36. 27.]]\n"
     ]
    }
   ],
   "source": [
    "print(np.dot(x.transpose(), y))"
   ]
  },
  {
   "cell_type": "markdown",
   "metadata": {},
   "source": [
    "Transposing `x` instead gives a 3x3 array."
   ]
  },
  {
   "cell_type": "markdown",
   "metadata": {},
   "source": [
    "## Indexing"
   ]
  },
  {
   "cell_type": "markdown",
   "metadata": {},
   "source": [
    "Numpy indexing extends normal Python indexing to multiple dimensions, and provides additional modes.  Here, as throughout this tutorial, we will illustrate some of the basics without trying to cover all possibilities.  For a more thorough description, see http://docs.scipy.org/doc/numpy/user/basics.indexing.html and  http://docs.scipy.org/doc/numpy/reference/arrays.indexing.html."
   ]
  },
  {
   "cell_type": "markdown",
   "metadata": {},
   "source": [
    "To make a 2-D array for demonstration purposes, we will start with a 1-D array and reshape it to 2-D:"
   ]
  },
  {
   "cell_type": "code",
   "execution_count": 16,
   "metadata": {},
   "outputs": [
    {
     "name": "stdout",
     "output_type": "stream",
     "text": [
      "[[ 0  1  2  3]\n",
      " [ 4  5  6  7]\n",
      " [ 8  9 10 11]]\n"
     ]
    }
   ],
   "source": [
    "xtest = np.arange(12)\n",
    "xtest = xtest.reshape((3, 4))\n",
    "print(xtest)"
   ]
  },
  {
   "cell_type": "markdown",
   "metadata": {},
   "source": [
    "Simple indexing is done with combinations of single indices and slices.  Notice how indexing with a slice makes no change in the dimensionality, but indexing with a single index removes a dimension."
   ]
  },
  {
   "cell_type": "code",
   "execution_count": 17,
   "metadata": {},
   "outputs": [
    {
     "name": "stdout",
     "output_type": "stream",
     "text": [
      "6\n"
     ]
    }
   ],
   "source": [
    "# Extract a single element from a 2-D array:\n",
    "print(xtest[1, 2])"
   ]
  },
  {
   "cell_type": "code",
   "execution_count": 18,
   "metadata": {},
   "outputs": [
    {
     "name": "stdout",
     "output_type": "stream",
     "text": [
      "[6]\n"
     ]
    }
   ],
   "source": [
    "# Slice with row 1, scalar index 2 for column,\n",
    "# so we are left with a 1-D array:\n",
    "print(xtest[1:2, 2])"
   ]
  },
  {
   "cell_type": "code",
   "execution_count": 19,
   "metadata": {},
   "outputs": [
    {
     "name": "stdout",
     "output_type": "stream",
     "text": [
      "[4 6]\n"
     ]
    }
   ],
   "source": [
    "# Slice with the last 2 columns, scalar index\n",
    "# 1 for the row, so again we have a 1-D array:\n",
    "print(xtest[1, ::2])"
   ]
  },
  {
   "cell_type": "code",
   "execution_count": 20,
   "metadata": {},
   "outputs": [
    {
     "name": "stdout",
     "output_type": "stream",
     "text": [
      "[[4 5]\n",
      " [8 9]]\n"
     ]
    }
   ],
   "source": [
    "# Slice for all rows but the first, and slice\n",
    "# for the first two columns, so we have a 2-D array:\n",
    "print(xtest[1:, :2])"
   ]
  },
  {
   "cell_type": "markdown",
   "metadata": {},
   "source": [
    "As in ordinary Python sequences, a slice object can be used in place of the colon notation.\n",
    "(See http://docs.python.org/2.7/library/functions.html?highlight=slice#slice for a description of the slightly unintuitive slice() function signature.) Slice objects are surprisingly handy, for example, when one needs to slice several arrays in the same way."
   ]
  },
  {
   "cell_type": "code",
   "execution_count": 21,
   "metadata": {},
   "outputs": [
    {
     "name": "stdout",
     "output_type": "stream",
     "text": [
      "[[4 5]\n",
      " [8 9]]\n",
      "is the same as\n",
      "[[4 5]\n",
      " [8 9]]\n"
     ]
    }
   ],
   "source": [
    "rowsl = slice(1, None)  # equiv to 1:\n",
    "colsl = slice(2)  # equiv to :2\n",
    "print(xtest[1:, :2])\n",
    "print(\"is the same as\")\n",
    "print(xtest[rowsl, colsl])"
   ]
  },
  {
   "cell_type": "code",
   "execution_count": 22,
   "metadata": {},
   "outputs": [
    {
     "name": "stdout",
     "output_type": "stream",
     "text": [
      "[[4 5]\n",
      " [8 9]]\n"
     ]
    }
   ],
   "source": [
    "# slice objects can use negative indices:\n",
    "colsl = slice(-2)  # equiv to :-2\n",
    "print(xtest[rowsl, colsl])"
   ]
  },
  {
   "cell_type": "markdown",
   "metadata": {},
   "source": [
    "Rows of a 2-D array can be selected using only the row indices:"
   ]
  },
  {
   "cell_type": "code",
   "execution_count": 23,
   "metadata": {},
   "outputs": [
    {
     "name": "stdout",
     "output_type": "stream",
     "text": [
      "[4 5 6 7]\n",
      "[4 5 6 7]\n"
     ]
    }
   ],
   "source": [
    "print(xtest[1])     # first row\n",
    "print(xtest[1, :])  # same thing"
   ]
  },
  {
   "cell_type": "code",
   "execution_count": 24,
   "metadata": {},
   "outputs": [
    {
     "name": "stdout",
     "output_type": "stream",
     "text": [
      "[[ 4  5  6  7]\n",
      " [ 8  9 10 11]]\n"
     ]
    }
   ],
   "source": [
    "print(xtest[-2:])  # last two rows"
   ]
  },
  {
   "cell_type": "markdown",
   "metadata": {},
   "source": [
    "Again, notice that any time a single index is used, the dimensionality is reduced by one; but slicing preserves dimensionality.  If one wanted a 2-D array with only the first row of xtest, one could use a slice instead of an index:"
   ]
  },
  {
   "cell_type": "code",
   "execution_count": 25,
   "metadata": {},
   "outputs": [
    {
     "name": "stdout",
     "output_type": "stream",
     "text": [
      "[[4 5 6 7]]\n"
     ]
    }
   ],
   "source": [
    "print(xtest[1:2])"
   ]
  },
  {
   "cell_type": "markdown",
   "metadata": {},
   "source": [
    "Selecting columns can be done like this:"
   ]
  },
  {
   "cell_type": "code",
   "execution_count": 26,
   "metadata": {},
   "outputs": [
    {
     "name": "stdout",
     "output_type": "stream",
     "text": [
      "[1 5 9]\n"
     ]
    }
   ],
   "source": [
    "print(xtest[:, 1])"
   ]
  },
  {
   "cell_type": "markdown",
   "metadata": {},
   "source": [
    "The result is a 1-D array, because we indexed a 2-D array with a single index.  There is no such thing as a 1-D column versus a 1-D row; it's just a 1-D array. \n",
    "\n",
    "Of course, if we slice the rows and the columns, we get another 2-D array:"
   ]
  },
  {
   "cell_type": "code",
   "execution_count": 27,
   "metadata": {},
   "outputs": [
    {
     "name": "stdout",
     "output_type": "stream",
     "text": [
      "[[ 2  3]\n",
      " [ 6  7]\n",
      " [10 11]]\n"
     ]
    }
   ],
   "source": [
    "print(xtest[:, -2:])"
   ]
  },
  {
   "cell_type": "code",
   "execution_count": 28,
   "metadata": {},
   "outputs": [
    {
     "name": "stdout",
     "output_type": "stream",
     "text": [
      "[[ 2  3]\n",
      " [ 6  7]\n",
      " [10 11]]\n"
     ]
    }
   ],
   "source": [
    "print(xtest[..., -2:])"
   ]
  },
  {
   "cell_type": "markdown",
   "metadata": {},
   "source": [
    "The ellipsis in the last example takes the place of *any number* of dimensions to the left, while each colon expression (or slice object) applies to a *single* dimension."
   ]
  },
  {
   "cell_type": "markdown",
   "metadata": {},
   "source": [
    "Indexing can be used on the left of an assignment to set selected rows, columns, or values:"
   ]
  },
  {
   "cell_type": "code",
   "execution_count": 29,
   "metadata": {},
   "outputs": [
    {
     "name": "stdout",
     "output_type": "stream",
     "text": [
      "[[  0   1   2   3]\n",
      " [  4   5 100   7]\n",
      " [  8   9  10  11]]\n"
     ]
    }
   ],
   "source": [
    "xtest1 = xtest.copy()\n",
    "xtest1[1, 2] = 100\n",
    "print(xtest1)"
   ]
  },
  {
   "cell_type": "code",
   "execution_count": 30,
   "metadata": {},
   "outputs": [
    {
     "name": "stdout",
     "output_type": "stream",
     "text": [
      "[[  0   1   2   3]\n",
      " [  4   5 100   7]\n",
      " [ 33  33  33  33]]\n"
     ]
    }
   ],
   "source": [
    "xtest1[-1] = 33 # sets the last row\n",
    "print(xtest1)"
   ]
  },
  {
   "cell_type": "code",
   "execution_count": 31,
   "metadata": {},
   "outputs": [
    {
     "name": "stdout",
     "output_type": "stream",
     "text": [
      "[[  0   1   2  99]\n",
      " [  4   5 100  88]\n",
      " [ 33  33  33  77]]\n"
     ]
    }
   ],
   "source": [
    "xtest1[:, -1] = [99, 88, 77]  # last column\n",
    "print(xtest1)"
   ]
  },
  {
   "cell_type": "markdown",
   "metadata": {},
   "source": [
    "### Broadcasting"
   ]
  },
  {
   "cell_type": "markdown",
   "metadata": {},
   "source": [
    "Suppose we want to subtract the row mean from each row, or the column mean from each column:"
   ]
  },
  {
   "cell_type": "code",
   "execution_count": 32,
   "metadata": {},
   "outputs": [
    {
     "name": "stdout",
     "output_type": "stream",
     "text": [
      "Row means are:  [1.5 5.5 9.5]\n",
      "xtest with row means subtracted out:\n",
      "[[-1.5 -0.5  0.5  1.5]\n",
      " [-1.5 -0.5  0.5  1.5]\n",
      " [-1.5 -0.5  0.5  1.5]]\n"
     ]
    }
   ],
   "source": [
    "xm = xtest.mean(axis=1)\n",
    "print(\"Row means are: \", xm)\n",
    "print(\"xtest with row means subtracted out:\")\n",
    "print(xtest - xm[:, np.newaxis])"
   ]
  },
  {
   "cell_type": "markdown",
   "metadata": {},
   "source": [
    "First, we take the mean of each row by supplying the keyword argument (typically abbreviated as \"kwarg\") `axis=1` so that the mean would be taken by summing over the the column index, which is `1` because the numbering starts from zero.  This gives a 1-D array with a mean for each row.\n",
    "\n",
    "To subtract this row-mean from each column, we need to turn it into a column and effectively replicate it for each column of the original array.  That is what the indexing syntax \n",
    "\n",
    "    [:, np.newaxis] \n",
    "    \n",
    "does above.  It is very efficient because it does not actually have to generate this as a new rectangular array--it just causes the calculation to be done as if such an array had been made."
   ]
  },
  {
   "cell_type": "code",
   "execution_count": 33,
   "metadata": {},
   "outputs": [
    {
     "name": "stdout",
     "output_type": "stream",
     "text": [
      "[[-4. -4. -4. -4.]\n",
      " [ 0.  0.  0.  0.]\n",
      " [ 4.  4.  4.  4.]]\n"
     ]
    }
   ],
   "source": [
    "print(xtest - xtest.mean(axis=0))  # Broadcasting:\n",
    "   # equivalent to xtest - xtest.mean(axis=0)[np.newaxis, :]"
   ]
  },
  {
   "cell_type": "markdown",
   "metadata": {},
   "source": [
    "We take the mean of each column by summing over the row index, hence the kwarg `axis=0`.\n",
    "\n",
    "To subtract the column-mean, we could use the indexing syntax\n",
    "\n",
    "    [np.newaxis, :]\n",
    "\n",
    "but we don't need to. This is done automatically by numpy.  It is called **broadcasting**.  In an arithmetic operation between two ndarrays, if the arrays differ in shape only insofar as one of them is missing one or more dimensions on the *left*, then these dimensions are effectively added by replication--again, not by making a new array, but by making the calculation behave as if such an array had been made."
   ]
  },
  {
   "cell_type": "markdown",
   "metadata": {},
   "source": [
    "In recent versions of numpy, some functions and methods such as ``mean`` have a handy kwarg, ``keepdims``, that eliminates the need for explicit indexing to restore a dimension to the right.  See if the following works with the version of numpy you are using:"
   ]
  },
  {
   "cell_type": "code",
   "execution_count": 34,
   "metadata": {},
   "outputs": [
    {
     "name": "stdout",
     "output_type": "stream",
     "text": [
      "[[-1.5 -0.5  0.5  1.5]\n",
      " [-1.5 -0.5  0.5  1.5]\n",
      " [-1.5 -0.5  0.5  1.5]]\n",
      "is the same as\n",
      "[[-1.5 -0.5  0.5  1.5]\n",
      " [-1.5 -0.5  0.5  1.5]\n",
      " [-1.5 -0.5  0.5  1.5]]\n",
      "if your version of numpy is not too old\n"
     ]
    }
   ],
   "source": [
    "# Remove the row-mean via indexing:\n",
    "print(xtest - xtest.mean(axis=1)[:, np.newaxis])\n",
    "print(\"is the same as\")\n",
    "# Use the new kwarg instead of indexing:\n",
    "print(xtest - xtest.mean(axis=1, keepdims=1))\n",
    "print(\"if your version of numpy is not too old\")"
   ]
  },
  {
   "cell_type": "markdown",
   "metadata": {},
   "source": [
    "#### Simple indexing returns a view, not a copy"
   ]
  },
  {
   "cell_type": "markdown",
   "metadata": {},
   "source": [
    "Numpy is designed to use computer resources efficiently, both for speed and to permit calculations with very large arrays.  One of the efficiency strategies is to avoid copying arrays unless it is really necessary.  Broadcasting and the use of `np.newaxis` as discussed above is one example. Another is illustrated next. The basic idea is that some operations with a part of an array, or with a whole array but rearranged in some fashion (e.g, transposed) do not require copying the numbers in the array into a new block of memory; instead, one can simply *view* them differently, or *view* a subset of them.  This leads to two alternatives: a function or method can **copy** an ndarray, or it can create a new **view** of part or all of an array."
   ]
  },
  {
   "cell_type": "markdown",
   "metadata": {},
   "source": [
    "For the following examples, we will first make a new test array by copying an earlier one, so that changes to the new array will leave the original unchanged:"
   ]
  },
  {
   "cell_type": "code",
   "execution_count": 35,
   "metadata": {},
   "outputs": [
    {
     "name": "stdout",
     "output_type": "stream",
     "text": [
      "[[ 0  1  2  3]\n",
      " [ 4  5  6  7]\n",
      " [ 8  9 10 11]]\n"
     ]
    }
   ],
   "source": [
    "xtest2 = xtest.copy()\n",
    "print(xtest2)"
   ]
  },
  {
   "cell_type": "markdown",
   "metadata": {},
   "source": [
    "Next, we will use slicing to subsample `xtest2` by 2 along each axis."
   ]
  },
  {
   "cell_type": "code",
   "execution_count": 36,
   "metadata": {},
   "outputs": [
    {
     "name": "stdout",
     "output_type": "stream",
     "text": [
      "xtest2view_odds originally contains:\n",
      "[[5 7]]\n",
      "after assigning 200 to each element of xtest2view_odds,\n",
      "xtest2 is also changed; it now contains:\n",
      "[[  0   1   2   3]\n",
      " [  4 200   6 200]\n",
      " [  8   9  10  11]]\n"
     ]
    }
   ],
   "source": [
    "xtest2view_odds = xtest2[1::2, 1::2]\n",
    "print(\"xtest2view_odds originally contains:\")\n",
    "print(xtest2view_odds)\n",
    "xtest2view_odds[:] = 200\n",
    "print(\"after assigning 200 to each element of xtest2view_odds,\")\n",
    "print(\"xtest2 is also changed; it now contains:\")\n",
    "print(xtest2)"
   ]
  },
  {
   "cell_type": "markdown",
   "metadata": {},
   "source": [
    "`xtest2view_odds` is a *view* of `xtest2`, exposing the elements with odd row and column number.  When we set all of the elements of `xtest2view_odds` to 200, we are setting those selected elements in `xtest2` itself.  If instead we want a new array that is initialized with the odd rows and columns of xtest2, then we have to explicitly make a copy:"
   ]
  },
  {
   "cell_type": "code",
   "execution_count": 37,
   "metadata": {},
   "outputs": [
    {
     "name": "stdout",
     "output_type": "stream",
     "text": [
      "xtest2 is initially:\n",
      "[[ 0  1  2  3]\n",
      " [ 4  5  6  7]\n",
      " [ 8  9 10 11]] \n",
      "\n",
      "xtest2_odds is initially:\n",
      "[[5 7]]\n",
      "after assigning 400 to xtest2_odds it is:\n",
      "[[400 400]] \n",
      "\n",
      "but xtest2 remains unchanged:\n",
      "[[ 0  1  2  3]\n",
      " [ 4  5  6  7]\n",
      " [ 8  9 10 11]]\n",
      "because this time xtest2_odds started as a copy,\n",
      "not a view into xtest2\n"
     ]
    }
   ],
   "source": [
    "# remake xtest2\n",
    "xtest2 = xtest.copy()\n",
    "print(\"xtest2 is initially:\")\n",
    "print(xtest2, \"\\n\")  # original\n",
    "\n",
    "xtest2_odds = xtest2[1::2, 1::2].copy()  # here!\n",
    "print(\"xtest2_odds is initially:\")\n",
    "print(xtest2_odds)\n",
    "xtest2_odds[:] = 400\n",
    "print(\"after assigning 400 to xtest2_odds it is:\")\n",
    "print(xtest2_odds, \"\\n\")\n",
    "print(\"but xtest2 remains unchanged:\")\n",
    "print(xtest2)  # (unchanged)\n",
    "print(\"because this time xtest2_odds started as a copy,\")\n",
    "print(\"not a view into xtest2\")"
   ]
  },
  {
   "cell_type": "markdown",
   "metadata": {},
   "source": [
    "### Advanced (\"fancy\") indexing"
   ]
  },
  {
   "cell_type": "markdown",
   "metadata": {},
   "source": [
    "Numpy's fancy indexing is capable of rather complicated operations, but in more typical use it is straightforward. Here we will stick to the simple uses. \n",
    "\n",
    "The distinction between simple and fancy indexing is based on the contents of the indexing expression.  \n",
    "\n",
    "- If that expression (actually a tuple inside the square brackets, but the round parentheses are usually omitted) contains only single indices and/or slices, then simple indexing, returning a view into the original array, is in effect.  \n",
    "- If any element of the indexing tuple is a list or ndarray, however, the indexing is fancy, and a *copy*, not a *view*, is returned.  \n",
    "\n",
    "The behavior is easy to understand *so long as only one element of the indexing tuple is a list or ndarray*. This is the case to which we will restrict ourselves."
   ]
  },
  {
   "cell_type": "markdown",
   "metadata": {},
   "source": [
    "First, let's verify that indexing actually is being done with a tuple--we can even use a named tuple, like this:"
   ]
  },
  {
   "cell_type": "code",
   "execution_count": 38,
   "metadata": {},
   "outputs": [
    {
     "name": "stdout",
     "output_type": "stream",
     "text": [
      "indexing with a named tuple, xtest[ind_tup]:\n",
      "[[5 7]]\n",
      "is equivalent to using colon notation, xtest[1::2, 1::2]:\n",
      "[[5 7]]\n"
     ]
    }
   ],
   "source": [
    "ind_tup = (slice(1, None, 2), slice(1, None, 2))\n",
    "print(\"indexing with a named tuple, xtest[ind_tup]:\")\n",
    "print(xtest[ind_tup])\n",
    "print(\"is equivalent to using colon notation, xtest[1::2, 1::2]:\")\n",
    "print(xtest[1::2, 1::2])"
   ]
  },
  {
   "cell_type": "markdown",
   "metadata": {},
   "source": [
    "Now let's use fancy indexing with a list of column indices to pull out the first and last column, forming a new array, not a view into `xtest2`:"
   ]
  },
  {
   "cell_type": "code",
   "execution_count": 39,
   "metadata": {},
   "outputs": [
    {
     "name": "stdout",
     "output_type": "stream",
     "text": [
      "[[ 0  3]\n",
      " [ 4  7]\n",
      " [ 8 11]]\n"
     ]
    }
   ],
   "source": [
    "xtest2 = xtest.copy()\n",
    "xfirstlast = xtest2[:, [0, -1]]\n",
    "print(xfirstlast)"
   ]
  },
  {
   "cell_type": "markdown",
   "metadata": {},
   "source": [
    "Above we used\n",
    "\n",
    "    [:, [0, -1]]\n",
    "    \n",
    "to take all of the rows (because of the first colon--a slice) and the first and last column (because our list of column indices is `[0, -1]`).  This inclusion of an index list triggers the fancy indexing behavior, so that a copy was returned.\n",
    "\n",
    "Next, we will set all of the elements of this new array, `xfirstlast`, to 200.  Finally, by printing the original array, `xtest2`, we verify that its contents were not changed when we assigned new values to `xfirstlast`."
   ]
  },
  {
   "cell_type": "code",
   "execution_count": 40,
   "metadata": {},
   "outputs": [
    {
     "name": "stdout",
     "output_type": "stream",
     "text": [
      "xfirstlast after filling with 200:\n",
      "[[200 200]\n",
      " [200 200]\n",
      " [200 200]] \n",
      "\n",
      "xtest2 was unchanged, because xfirstlast is not a view:\n",
      "[[ 0  1  2  3]\n",
      " [ 4  5  6  7]\n",
      " [ 8  9 10 11]]\n"
     ]
    }
   ],
   "source": [
    "xfirstlast[:] = 200\n",
    "print(\"xfirstlast after filling with 200:\")\n",
    "print(xfirstlast, \"\\n\")\n",
    "print(\"xtest2 was unchanged, because xfirstlast is not a view:\")\n",
    "print(xtest2)"
   ]
  },
  {
   "cell_type": "markdown",
   "metadata": {},
   "source": [
    "If we want to modify the contents of selected rows, columns, or elements of `xtest2`, we can do that using fancy indexing on the *left* side of an assignment.  Let's set the first and last column to 500:"
   ]
  },
  {
   "cell_type": "code",
   "execution_count": 41,
   "metadata": {},
   "outputs": [
    {
     "name": "stdout",
     "output_type": "stream",
     "text": [
      "[[500   1   2 500]\n",
      " [500   5   6 500]\n",
      " [500   9  10 500]]\n"
     ]
    }
   ],
   "source": [
    "xtest2[:, [0, -1]] = 500\n",
    "print(xtest2)"
   ]
  },
  {
   "cell_type": "markdown",
   "metadata": {},
   "source": [
    "#### Boolean fancy indexing"
   ]
  },
  {
   "cell_type": "markdown",
   "metadata": {},
   "source": [
    "Fancy indexing can be done with Boolean arrays; again, on the left of an assignment it allows setting selected rows, columns, or elements, and on the right of an assignment it returns a copy, not a view.\n",
    "\n",
    "First, make a 1-D Boolean array that is True for each column in which the top element (that is, from the first row) equals 500.  Call that array `jbig`.  Then use this to select the corresponding columns, and make a new array, `xtest2big`, consisting of those columns:"
   ]
  },
  {
   "cell_type": "code",
   "execution_count": 42,
   "metadata": {},
   "outputs": [
    {
     "name": "stdout",
     "output_type": "stream",
     "text": [
      "[[500 500]\n",
      " [500 500]\n",
      " [500 500]]\n"
     ]
    }
   ],
   "source": [
    "jbig = xtest2[0] == 500\n",
    "xtest2big = xtest2[:, jbig]\n",
    "print(xtest2big)"
   ]
  },
  {
   "cell_type": "markdown",
   "metadata": {},
   "source": [
    "Next, illustrate fancy indexing with a single 1-D Boolean array (`jbig`) on the *left* by changing the values in the first and last column of `xtest2` to 400:"
   ]
  },
  {
   "cell_type": "code",
   "execution_count": 43,
   "metadata": {},
   "outputs": [
    {
     "name": "stdout",
     "output_type": "stream",
     "text": [
      "[[400   1   2 400]\n",
      " [400   5   6 400]\n",
      " [400   9  10 400]] \n",
      "\n"
     ]
    }
   ],
   "source": [
    "xtest2[:, jbig] = 400\n",
    "print(xtest2, \"\\n\")"
   ]
  },
  {
   "cell_type": "markdown",
   "metadata": {},
   "source": [
    "#### Assigning elements based on a logical condition"
   ]
  },
  {
   "cell_type": "markdown",
   "metadata": {},
   "source": [
    "A single Boolean array indexing on the *left* can be used as one would expect to assign elements based on a logical condition.\n",
    "\n",
    "For example, let's make a new 2-D array of sequential integers, and then invert the sign of all the even integers:"
   ]
  },
  {
   "cell_type": "code",
   "execution_count": 44,
   "metadata": {},
   "outputs": [
    {
     "name": "stdout",
     "output_type": "stream",
     "text": [
      "[[ 0  1  2  3  4]\n",
      " [ 5  6  7  8  9]\n",
      " [10 11 12 13 14]] \n",
      "\n",
      "[[  0   1  -2   3  -4]\n",
      " [  5  -6   7  -8   9]\n",
      " [-10  11 -12  13 -14]]\n"
     ]
    }
   ],
   "source": [
    "xtest3 = np.arange(15).reshape((3, 5))\n",
    "print(xtest3, \"\\n\")\n",
    "\n",
    "cond = xtest3 % 2 == 0\n",
    "# Now cond is a Boolean array with the same shape as xtest3,\n",
    "# with a True value wherever xtest3 is even.\n",
    "xtest3[cond] = - xtest3[cond]\n",
    "print(xtest3)"
   ]
  },
  {
   "cell_type": "markdown",
   "metadata": {},
   "source": [
    "#### Combining logical operations"
   ]
  },
  {
   "cell_type": "markdown",
   "metadata": {},
   "source": [
    "Owing to a deep-seated aspect of Python's design, combining numpy logical conditions to make a single Boolean array for indexing can't be done in quite the way one would like, using genuine logical operators; instead, either a verbose form using a function, or a little hack, is needed.  First, here is the verbose form in which one uses ``np.logical_or()`` or ``np.logical_and()`` to combine Boolean arrays:"
   ]
  },
  {
   "cell_type": "code",
   "execution_count": 45,
   "metadata": {},
   "outputs": [
    {
     "name": "stdout",
     "output_type": "stream",
     "text": [
      "We selected all elements less than 2 or greater than 10\n",
      "and changed them to 100:\n",
      "[[100 100   2   3   4]\n",
      " [  5   6   7   8   9]\n",
      " [ 10 100 100 100 100]]\n"
     ]
    }
   ],
   "source": [
    "xtest4 = np.arange(15).reshape((3, 5))\n",
    "cond1 = xtest4 > 10\n",
    "cond2 = xtest4 < 2\n",
    "cond = np.logical_or(cond1, cond2)\n",
    "xtest4[cond] = 100\n",
    "print(\"We selected all elements less than 2 or greater than 10\")\n",
    "print(\"and changed them to 100:\")\n",
    "print(xtest4)"
   ]
  },
  {
   "cell_type": "markdown",
   "metadata": {},
   "source": [
    "Now the hack, which takes advantage of the fact that Boolean values are actually 1 for True and 0 for False, and uses the bit-wise operators, ``|`` and ``&``.  The problem with this, other than that it feels like cheating--it's really a trick--is that these bit-wise operators have higher precedence than proper logical operators would, so one *must* use parentheses to make the operations group correctly."
   ]
  },
  {
   "cell_type": "code",
   "execution_count": 46,
   "metadata": {},
   "outputs": [
    {
     "name": "stdout",
     "output_type": "stream",
     "text": [
      "[[100 100   2   3   4]\n",
      " [  5   6   7   8   9]\n",
      " [ 10 100 100 100 100]]\n"
     ]
    }
   ],
   "source": [
    "xtest4 = np.arange(15).reshape((3, 5))\n",
    "cond = (xtest4 < 2) | (xtest4 > 10)\n",
    "xtest4[cond] = 100\n",
    "print(xtest4)"
   ]
  },
  {
   "cell_type": "markdown",
   "metadata": {},
   "source": [
    "Notice that in all the examples above, the `cond` array, used as the sole indexing object for the `xtest3` or `xtest4` array, has the same dimensions as the array it is indexing, and is of Boolean dtype:"
   ]
  },
  {
   "cell_type": "code",
   "execution_count": 47,
   "metadata": {},
   "outputs": [
    {
     "name": "stdout",
     "output_type": "stream",
     "text": [
      "characteristics of xtest4:\n",
      "argument type is <class 'numpy.ndarray'>\n",
      "number of dimensions: 2\n",
      "shape is (3, 5)\n",
      "dtype is int32\n",
      "content is\n",
      "[[100 100   2   3   4]\n",
      " [  5   6   7   8   9]\n",
      " [ 10 100 100 100 100]]\n",
      "\n",
      "characteristics of cond:\n",
      "argument type is <class 'numpy.ndarray'>\n",
      "number of dimensions: 2\n",
      "shape is (3, 5)\n",
      "dtype is bool\n",
      "content is\n",
      "[[ True  True False False False]\n",
      " [False False False False False]\n",
      " [False  True  True  True  True]]\n"
     ]
    }
   ],
   "source": [
    "print(\"characteristics of xtest4:\")\n",
    "show_ndarray(xtest4)\n",
    "print(\"\\ncharacteristics of cond:\")\n",
    "show_ndarray(cond)"
   ]
  },
  {
   "cell_type": "markdown",
   "metadata": {},
   "source": [
    "### Array sizes cannot be changed"
   ]
  },
  {
   "cell_type": "markdown",
   "metadata": {},
   "source": [
    "In Matlab, arrays can be expanded simply by assigning to indices that are outside the orginal range; in numpy, the *size of an array cannot be changed after the array is created*. As we have seen, one can copy a subset of an array, or use slicing to access a view of a subarray, but instead of dynamically expanding an array, one must create a new one of the desired size and copy in the data from the original, or use concatenation to make a new array from two or more existing arrays with compatible shapes."
   ]
  },
  {
   "cell_type": "markdown",
   "metadata": {},
   "source": [
    "In the following, we start with an existing array, `y`, we create a larger array, `ynew`, and we fill the first part of `ynew` with the contents of `y`:"
   ]
  },
  {
   "cell_type": "code",
   "execution_count": 48,
   "metadata": {},
   "outputs": [
    {
     "name": "stdout",
     "output_type": "stream",
     "text": [
      "[0 1 2 3 4 0 0]\n"
     ]
    }
   ],
   "source": [
    "y = np.arange(5)\n",
    "ynew = np.zeros((7,), dtype=int)\n",
    "ynew[:5] = y\n",
    "print(ynew)"
   ]
  },
  {
   "cell_type": "markdown",
   "metadata": {},
   "source": [
    "Next, let's use concatenation to horizontally stack (`np.hstack()`) two single-row arrays. "
   ]
  },
  {
   "cell_type": "code",
   "execution_count": 49,
   "metadata": {},
   "outputs": [
    {
     "name": "stdout",
     "output_type": "stream",
     "text": [
      "[ 0  1  2  3  4 10 20]\n"
     ]
    }
   ],
   "source": [
    "y_extra = np.array([10, 20])\n",
    "ynew = np.hstack((y, y_extra))\n",
    "print(ynew)"
   ]
  },
  {
   "cell_type": "markdown",
   "metadata": {},
   "source": [
    "If we have two or more single-row arrays of the same length, we can stack them vertically into a 2-D array."
   ]
  },
  {
   "cell_type": "code",
   "execution_count": 50,
   "metadata": {},
   "outputs": [
    {
     "name": "stdout",
     "output_type": "stream",
     "text": [
      "[[0 1 2 3 4]\n",
      " [4 3 2 1 0]]\n"
     ]
    }
   ],
   "source": [
    "yy = y[::-1]\n",
    "ynew = np.vstack((y, yy))\n",
    "print(ynew)"
   ]
  },
  {
   "cell_type": "markdown",
   "metadata": {},
   "source": [
    "Of course, concatenation can be used with multiple arrays of multiple dimensions; for more information and details, look up the documentation for `np.hstack`, `np.vstack`, and `np.concatenate`.  \n",
    "Note that in the examples above, *all those parentheses are necessary*, because the sequence of arrays to be concatenated must be given as a *single* argument, usually a tuple."
   ]
  },
  {
   "cell_type": "markdown",
   "metadata": {},
   "source": [
    "## The dtype"
   ]
  },
  {
   "cell_type": "markdown",
   "metadata": {},
   "source": [
    "An ndarray contains objects of a given type, recorded by the *dtype* attribute.  The desired dtype can be set when the ndarray is created, and an array can be converted from one dtype to another.  This is a fundamental aspect of numpy that provides great power and flexibility.  The dtype attribute is actually a fairly complicated object in its own right, with several attributes, and the ability to specify not just a basic numeric type (like unsigned 16-bit integer, or single-precision floating point), but also a record structure with named fields that can have different types.  For details, see\n",
    "\n",
    "- http://docs.scipy.org/doc/numpy/user/basics.types.html, \n",
    "- http://docs.scipy.org/doc/numpy/user/basics.rec.html, and \n",
    "- http://docs.scipy.org/doc/numpy/reference/arrays.dtypes.html."
   ]
  },
  {
   "cell_type": "markdown",
   "metadata": {},
   "source": [
    "When the `array` function is used to convert a Python sequence, nested sequences, into an ndarray, the dtype can be specified explicitly, or the function can be left to pick a dtype that is suitable for the given input."
   ]
  },
  {
   "cell_type": "code",
   "execution_count": 51,
   "metadata": {},
   "outputs": [
    {
     "name": "stdout",
     "output_type": "stream",
     "text": [
      "int32\n"
     ]
    }
   ],
   "source": [
    "x1 = np.array([1, 2, 2, 0])\n",
    "print(x1.dtype)"
   ]
  },
  {
   "cell_type": "code",
   "execution_count": 52,
   "metadata": {},
   "outputs": [
    {
     "name": "stdout",
     "output_type": "stream",
     "text": [
      "float64\n"
     ]
    }
   ],
   "source": [
    "x2 = np.array([1, 2, 2.0, 0])\n",
    "print(x2.dtype)"
   ]
  },
  {
   "cell_type": "markdown",
   "metadata": {},
   "source": [
    "Notice that in the examples above the dtype determination was based on the type of object being supplied, not the value. A single float was sufficient to cause selection of the `float64` dtype.  \n",
    "\n",
    "Often it is better to specify the desired dtype at the outset, e.g.:"
   ]
  },
  {
   "cell_type": "code",
   "execution_count": 53,
   "metadata": {},
   "outputs": [
    {
     "name": "stdout",
     "output_type": "stream",
     "text": [
      "float64\n"
     ]
    }
   ],
   "source": [
    "x3 = np.array([1, 2, 2, 0], dtype=float)\n",
    "print(x3.dtype)"
   ]
  },
  {
   "cell_type": "markdown",
   "metadata": {},
   "source": [
    "A heterogeneous array can be created by specifying the most general dtype, `object`.  The result is similar to a Matlab cell array."
   ]
  },
  {
   "cell_type": "code",
   "execution_count": 54,
   "metadata": {},
   "outputs": [
    {
     "name": "stdout",
     "output_type": "stream",
     "text": [
      "object\n"
     ]
    }
   ],
   "source": [
    "x4 = np.array([\"a\", (1,2), [3,4]], dtype=object)\n",
    "print(x4.dtype)"
   ]
  },
  {
   "cell_type": "markdown",
   "metadata": {},
   "source": [
    "When mathematical operations involve arguments with different dtypes, numpy tries to pick an output dtype that is as safe as possible--that is, least likely to lose information. Here is a simple example.  Adding int64 to float64 (double precision) yields the latter."
   ]
  },
  {
   "cell_type": "code",
   "execution_count": 55,
   "metadata": {},
   "outputs": [
    {
     "name": "stdout",
     "output_type": "stream",
     "text": [
      "float64\n"
     ]
    }
   ],
   "source": [
    "x3 = x1 + x2\n",
    "print(x3.dtype)"
   ]
  },
  {
   "cell_type": "markdown",
   "metadata": {},
   "source": [
    "If we have structured information (e.g., conceptually a table of records with named fields), we can use a structured dtype:"
   ]
  },
  {
   "cell_type": "code",
   "execution_count": 56,
   "metadata": {},
   "outputs": [
    {
     "name": "stdout",
     "output_type": "stream",
     "text": [
      "(b'Harriet', 5.7, 132)\n"
     ]
    }
   ],
   "source": [
    "info_type = np.dtype([('name', 'S20'), ('height', np.float32), ('weight', np.int16)])\n",
    "data = [(\"Henry\", 6.1, 185), (\"Harriet\", 5.7, 132)]\n",
    "x5 = np.empty((2,), dtype=info_type)\n",
    "x5[:] = data\n",
    "print(x5[1])"
   ]
  },
  {
   "cell_type": "markdown",
   "metadata": {},
   "source": [
    "Above, we printed the second record (index 1 into the array).\n",
    "\n",
    "Below, we print the 'weight' from each record; since we have two records, we get two weights."
   ]
  },
  {
   "cell_type": "code",
   "execution_count": 57,
   "metadata": {},
   "outputs": [
    {
     "name": "stdout",
     "output_type": "stream",
     "text": [
      "[185 132]\n"
     ]
    }
   ],
   "source": [
    "print(x5['weight'])"
   ]
  },
  {
   "cell_type": "markdown",
   "metadata": {},
   "source": [
    "Sometimes it is more convenient to use attribute access style to specify a field.  For this we can view the structured array as a subclass called a recarray:"
   ]
  },
  {
   "cell_type": "code",
   "execution_count": 58,
   "metadata": {},
   "outputs": [
    {
     "name": "stdout",
     "output_type": "stream",
     "text": [
      "x5rec.name is: [b'Henry' b'Harriet']\n",
      "x5['name'] is: [b'Henry' b'Harriet']\n",
      "\n",
      "x5rec.weight[-1] is: 132\n",
      "x5['weight'][-1] is: 132\n"
     ]
    }
   ],
   "source": [
    "x5rec = x5.view(np.recarray)\n",
    "print(\"x5rec.name is:\", x5rec.name)\n",
    "print(\"x5['name'] is:\", x5['name'])\n",
    "print(\"\\nx5rec.weight[-1] is:\", x5rec.weight[-1])\n",
    "print(\"x5['weight'][-1] is:\", x5['weight'][-1])"
   ]
  },
  {
   "cell_type": "code",
   "execution_count": null,
   "metadata": {},
   "outputs": [],
   "source": []
  }
 ],
 "metadata": {
  "anaconda-cloud": {},
  "kernelspec": {
   "display_name": "Python 3",
   "language": "python",
   "name": "python3"
  },
  "language_info": {
   "codemirror_mode": {
    "name": "ipython",
    "version": 3
   },
   "file_extension": ".py",
   "mimetype": "text/x-python",
   "name": "python",
   "nbconvert_exporter": "python",
   "pygments_lexer": "ipython3",
   "version": "3.6.8"
  }
 },
 "nbformat": 4,
 "nbformat_minor": 1
}
