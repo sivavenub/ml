{
 "cells": [
  {
   "cell_type": "code",
   "execution_count": 1,
   "metadata": {
    "colab": {},
    "colab_type": "code",
    "id": "zvVkQEARFAxu"
   },
   "outputs": [],
   "source": [
    "import plotly.tools as tls\n",
    "tls.set_credentials_file(username='blue.black83', api_key='kiqXVDGOu8KRTznVJJpy')\n"
   ]
  },
  {
   "cell_type": "code",
   "execution_count": 2,
   "metadata": {
    "colab": {},
    "colab_type": "code",
    "id": "fTlPETnFDCKX"
   },
   "outputs": [],
   "source": [
    "import plotly.plotly as py\n",
    "import plotly.graph_objs as go\n"
   ]
  },
  {
   "cell_type": "code",
   "execution_count": 3,
   "metadata": {
    "colab": {},
    "colab_type": "code",
    "id": "9QocOCG6DIWR"
   },
   "outputs": [],
   "source": [
    "data = [go.Contour(z=[[10, 10.625, 12.5, 15.625, 20],\n",
    "           [5.625, 6.25, 8.125, 11.25, 15.625],\n",
    "           [2.5, 3.125, 5., 8.125, 12.5],\n",
    "           [0.625, 1.25, 3.125, 6.25, 10.625],\n",
    "           [0, 0.625, 2.5, 5.625, 10]])] "
   ]
  },
  {
   "cell_type": "code",
   "execution_count": 4,
   "metadata": {
    "colab": {
     "base_uri": "https://localhost:8080/",
     "height": 126
    },
    "colab_type": "code",
    "id": "ZmVV6osOD9r7",
    "outputId": "d6207a65-3733-4260-881c-c806c8b1c399"
   },
   "outputs": [
    {
     "data": {
      "text/plain": [
       "[Contour({\n",
       "     'z': [[10, 10.625, 12.5, 15.625, 20], [5.625, 6.25, 8.125, 11.25, 15.625],\n",
       "           [2.5, 3.125, 5.0, 8.125, 12.5], [0.625, 1.25, 3.125, 6.25, 10.625], [0,\n",
       "           0.625, 2.5, 5.625, 10]]\n",
       " })]"
      ]
     },
     "execution_count": 4,
     "metadata": {},
     "output_type": "execute_result"
    }
   ],
   "source": [
    "data"
   ]
  },
  {
   "cell_type": "code",
   "execution_count": 5,
   "metadata": {
    "colab": {
     "base_uri": "https://localhost:8080/",
     "height": 35
    },
    "colab_type": "code",
    "id": "0z-RJ_jNEAXS",
    "outputId": "f2340ab4-cd03-437b-c7fd-7c8a8ba2c1a6"
   },
   "outputs": [
    {
     "data": {
      "text/plain": [
       "list"
      ]
     },
     "execution_count": 5,
     "metadata": {},
     "output_type": "execute_result"
    }
   ],
   "source": [
    "type(data)"
   ]
  },
  {
   "cell_type": "code",
   "execution_count": 6,
   "metadata": {
    "colab": {
     "base_uri": "https://localhost:8080/",
     "height": 126
    },
    "colab_type": "code",
    "id": "ap3RbNAEEDXk",
    "outputId": "9a396ab6-ffd2-4b10-cbd4-a75a73891605"
   },
   "outputs": [
    {
     "data": {
      "text/plain": [
       "[Contour({\n",
       "     'z': [[10, 10.625, 12.5, 15.625, 20], [5.625, 6.25, 8.125, 11.25, 15.625],\n",
       "           [2.5, 3.125, 5.0, 8.125, 12.5], [0.625, 1.25, 3.125, 6.25, 10.625], [0,\n",
       "           0.625, 2.5, 5.625, 10]]\n",
       " })]"
      ]
     },
     "execution_count": 6,
     "metadata": {},
     "output_type": "execute_result"
    }
   ],
   "source": [
    "data[:]"
   ]
  },
  {
   "cell_type": "code",
   "execution_count": 7,
   "metadata": {
    "colab": {
     "base_uri": "https://localhost:8080/",
     "height": 545
    },
    "colab_type": "code",
    "id": "Rc3BlK-OEI48",
    "outputId": "affad765-3ce5-4bad-a32a-2d59d49d6aa4"
   },
   "outputs": [
    {
     "name": "stderr",
     "output_type": "stream",
     "text": [
      "C:\\Users\\win10\\Anaconda3\\envs\\ml\\lib\\site-packages\\IPython\\core\\display.py:689: UserWarning:\n",
      "\n",
      "Consider using IPython.display.IFrame instead\n",
      "\n"
     ]
    },
    {
     "data": {
      "text/html": [
       "<iframe id=\"igraph\" scrolling=\"no\" style=\"border:none;\" seamless=\"seamless\" src=\"https://plot.ly/~blue.black83/32.embed\" height=\"525px\" width=\"100%\"></iframe>"
      ],
      "text/plain": [
       "<plotly.tools.PlotlyDisplay object>"
      ]
     },
     "execution_count": 7,
     "metadata": {},
     "output_type": "execute_result"
    }
   ],
   "source": [
    "py.iplot(data)"
   ]
  },
  {
   "cell_type": "code",
   "execution_count": 8,
   "metadata": {
    "colab": {},
    "colab_type": "code",
    "id": "HPaF34YCEys1"
   },
   "outputs": [],
   "source": [
    "data = [go.Contour(z=[[10, 10.625, 12.5, 15.625, 20],\n",
    "           [5.625, 6.25, 8.125, 11.25, 15.625],\n",
    "           [2.5, 3.125, 5., 8.125, 12.5],\n",
    "           [0.625, 1.25, 3.125, 6.25, 10.625],\n",
    "           [0, 0.625, 2.5, 5.625, 10]],\n",
    "                  x=[-9, -6, -5 , -3, -1],\n",
    "        y=[0, 1, 4, 5, 7])] "
   ]
  },
  {
   "cell_type": "code",
   "execution_count": 9,
   "metadata": {
    "colab": {
     "base_uri": "https://localhost:8080/",
     "height": 545
    },
    "colab_type": "code",
    "id": "ufBlNM5FGL84",
    "outputId": "82c09ffe-7d0b-481c-b88a-733f5b684ef0"
   },
   "outputs": [
    {
     "data": {
      "text/html": [
       "<iframe id=\"igraph\" scrolling=\"no\" style=\"border:none;\" seamless=\"seamless\" src=\"https://plot.ly/~blue.black83/34.embed\" height=\"525px\" width=\"100%\"></iframe>"
      ],
      "text/plain": [
       "<plotly.tools.PlotlyDisplay object>"
      ]
     },
     "execution_count": 9,
     "metadata": {},
     "output_type": "execute_result"
    }
   ],
   "source": [
    "py.iplot(data)"
   ]
  },
  {
   "cell_type": "code",
   "execution_count": 10,
   "metadata": {
    "colab": {},
    "colab_type": "code",
    "id": "bDazDQmEGQzS"
   },
   "outputs": [],
   "source": [
    "data = [go.Contour(z=[[10, 10.625, 12.5, 15.625, 20],\n",
    "           [5.625, 6.25, 8.125, 11.25, 15.625],\n",
    "           [2.5, 3.125, 5., 8.125, 12.5],\n",
    "           [0.625, 1.25, 3.125, 6.25, 10.625],\n",
    "           [0, 0.625, 2.5, 5.625, 10]],\n",
    "                  x=[-9, -6, -5 , -3, -1],\n",
    "        y=[0, 1, 4, 5, 7],\n",
    "                  colorscale= 'Jet')] "
   ]
  },
  {
   "cell_type": "code",
   "execution_count": 11,
   "metadata": {
    "colab": {
     "base_uri": "https://localhost:8080/",
     "height": 545
    },
    "colab_type": "code",
    "id": "qKwi6aQ0Gq1h",
    "outputId": "33d21671-be2e-4b75-aceb-301a47f1456b"
   },
   "outputs": [
    {
     "data": {
      "text/html": [
       "<iframe id=\"igraph\" scrolling=\"no\" style=\"border:none;\" seamless=\"seamless\" src=\"https://plot.ly/~blue.black83/36.embed\" height=\"525px\" width=\"100%\"></iframe>"
      ],
      "text/plain": [
       "<plotly.tools.PlotlyDisplay object>"
      ]
     },
     "execution_count": 11,
     "metadata": {},
     "output_type": "execute_result"
    }
   ],
   "source": [
    "py.iplot(data)"
   ]
  },
  {
   "cell_type": "code",
   "execution_count": 12,
   "metadata": {
    "colab": {},
    "colab_type": "code",
    "id": "Xn7NDnwSGvgd"
   },
   "outputs": [],
   "source": [
    "data = [go.Contour(z=[[10, 10.625, 12.5, 15.625, 20],\n",
    "           [5.625, 6.25, 8.125, 11.25, 15.625],\n",
    "           [2.5, 3.125, 5., 8.125, 12.5],\n",
    "           [0.625, 1.25, 3.125, 6.25, 10.625],\n",
    "           [0, 0.625, 2.5, 5.625, 10]],\n",
    "                  x=[-9, -6, -5 , -3, -1],\n",
    "        y=[0, 1, 4, 5, 7],\n",
    "                  colorscale= 'Jet',\n",
    "                   autocontour=False,\n",
    "        contours=dict(\n",
    "            start=0,\n",
    "            end=8,\n",
    "            size=2,),)] "
   ]
  },
  {
   "cell_type": "code",
   "execution_count": 13,
   "metadata": {
    "colab": {
     "base_uri": "https://localhost:8080/",
     "height": 545
    },
    "colab_type": "code",
    "id": "MUPYvq6kHjgn",
    "outputId": "009f061d-909e-429a-94ab-bd3888a2f649"
   },
   "outputs": [
    {
     "data": {
      "text/html": [
       "<iframe id=\"igraph\" scrolling=\"no\" style=\"border:none;\" seamless=\"seamless\" src=\"https://plot.ly/~blue.black83/38.embed\" height=\"525px\" width=\"100%\"></iframe>"
      ],
      "text/plain": [
       "<plotly.tools.PlotlyDisplay object>"
      ]
     },
     "execution_count": 13,
     "metadata": {},
     "output_type": "execute_result"
    }
   ],
   "source": [
    "py.iplot(data)"
   ]
  },
  {
   "cell_type": "code",
   "execution_count": 14,
   "metadata": {
    "colab": {
     "base_uri": "https://localhost:8080/",
     "height": 545
    },
    "colab_type": "code",
    "id": "zF--u3-8HpuW",
    "outputId": "001facb1-f67d-4920-af7e-fe57076f0761"
   },
   "outputs": [
    {
     "data": {
      "text/html": [
       "<iframe id=\"igraph\" scrolling=\"no\" style=\"border:none;\" seamless=\"seamless\" src=\"https://plot.ly/~blue.black83/40.embed\" height=\"525px\" width=\"100%\"></iframe>"
      ],
      "text/plain": [
       "<plotly.tools.PlotlyDisplay object>"
      ]
     },
     "execution_count": 14,
     "metadata": {},
     "output_type": "execute_result"
    }
   ],
   "source": [
    "data = [\n",
    "    {\n",
    "        'z': [[10, 10.625, 12.5, 15.625, 20],\n",
    "              [5.625, 6.25, 8.125, 11.25, 15.625],\n",
    "              [2.5, 3.125, 5., 8.125, 12.5],\n",
    "              [0.625, 1.25, 3.125, 6.25, 10.625],\n",
    "              [0, 0.625, 2.5, 5.625, 10]],\n",
    "        'colorscale':'Jet',\n",
    "        'type': u'contour',\n",
    "        'dx': 10,\n",
    "        'x0': 5,\n",
    "        'dy': 10,\n",
    "        'y0':10,\n",
    "    }\n",
    "]\n",
    "py.iplot(data)"
   ]
  },
  {
   "cell_type": "code",
   "execution_count": 15,
   "metadata": {
    "colab": {
     "base_uri": "https://localhost:8080/",
     "height": 600
    },
    "colab_type": "code",
    "id": "Csj2zVUvIEz4",
    "outputId": "41894ed5-7e12-4718-8dc3-52915720cab3"
   },
   "outputs": [
    {
     "name": "stdout",
     "output_type": "stream",
     "text": [
      "This is the format of your plot grid:\n",
      "[ (1,1) x1,y1 ]  [ (1,2) x2,y2 ]\n",
      "\n"
     ]
    },
    {
     "data": {
      "text/html": [
       "<iframe id=\"igraph\" scrolling=\"no\" style=\"border:none;\" seamless=\"seamless\" src=\"https://plot.ly/~blue.black83/42.embed\" height=\"525px\" width=\"100%\"></iframe>"
      ],
      "text/plain": [
       "<plotly.tools.PlotlyDisplay object>"
      ]
     },
     "execution_count": 15,
     "metadata": {},
     "output_type": "execute_result"
    }
   ],
   "source": [
    "from plotly import tools\n",
    "import plotly.plotly as py\n",
    "import plotly.graph_objs as go\n",
    "\n",
    "trace0 = go.Contour(\n",
    "    z=[[2, 4, 7, 12, 13, 14, 15, 16],\n",
    "       [3, 1, 6, 11, 12, 13, 16, 17],\n",
    "       [4, 2, 7, 7, 11, 14, 17, 18],\n",
    "       [5, 3, 8, 8, 13, 15, 18, 19],\n",
    "       [7, 4, 10, 9, 16, 18, 20, 19],\n",
    "       [9, 10, 5, 27, 23, 21, 21, 21],\n",
    "       [11, 14, 17, 26, 25, 24, 23, 22]],\n",
    "    line=dict(smoothing=0),\n",
    ")\n",
    "trace1 = go.Contour(\n",
    "    z=[[2, 4, 7, 12, 13, 14, 15, 16],\n",
    "       [3, 1, 6, 11, 12, 13, 16, 17],\n",
    "       [4, 2, 7, 7, 11, 14, 17, 18],\n",
    "       [5, 3, 8, 8, 13, 15, 18, 19],\n",
    "       [7, 4, 10, 9, 16, 18, 20, 19],\n",
    "       [9, 10, 5, 27, 23, 21, 21, 21],\n",
    "       [11, 14, 17, 26, 25, 24, 23, 22]],\n",
    "    line=dict(smoothing=0.85),\n",
    ")\n",
    "\n",
    "fig = tools.make_subplots(rows=1, cols=2,\n",
    "                          subplot_titles=('Without Smoothing', 'With Smoothing'))\n",
    "\n",
    "fig.append_trace(trace0, 1, 1)\n",
    "fig.append_trace(trace1, 1, 2)\n",
    "\n",
    "py.iplot(fig)"
   ]
  },
  {
   "cell_type": "code",
   "execution_count": 16,
   "metadata": {
    "colab": {},
    "colab_type": "code",
    "id": "GIBK50l3JKeW"
   },
   "outputs": [],
   "source": [
    "import plotly.graph_objs as go\n",
    "\n",
    "import pandas as pd\n"
   ]
  },
  {
   "cell_type": "code",
   "execution_count": 17,
   "metadata": {
    "colab": {},
    "colab_type": "code",
    "id": "s_P8Jv1qW_iP"
   },
   "outputs": [],
   "source": [
    "z_data = pd.read_csv('https://raw.githubusercontent.com/plotly/datasets/master/api_docs/mt_bruno_elevation.csv')\n"
   ]
  },
  {
   "cell_type": "code",
   "execution_count": 18,
   "metadata": {
    "colab": {},
    "colab_type": "code",
    "id": "-VOGq3ZTXBbI"
   },
   "outputs": [
    {
     "name": "stderr",
     "output_type": "stream",
     "text": [
      "C:\\Users\\win10\\Anaconda3\\envs\\ml\\lib\\site-packages\\ipykernel_launcher.py:3: FutureWarning:\n",
      "\n",
      "Method .as_matrix will be removed in a future version. Use .values instead.\n",
      "\n"
     ]
    }
   ],
   "source": [
    "data = [\n",
    "    go.Surface(\n",
    "        z=z_data.as_matrix()\n",
    "    )\n",
    "]\n"
   ]
  },
  {
   "cell_type": "code",
   "execution_count": 19,
   "metadata": {
    "colab": {
     "base_uri": "https://localhost:8080/",
     "height": 3217
    },
    "colab_type": "code",
    "id": "QekEYlAKXHmo",
    "outputId": "66c49884-e7d4-4b0e-c38f-ad5ac75a8405"
   },
   "outputs": [
    {
     "data": {
      "text/plain": [
       "[Surface({\n",
       "     'z': array([[ 0.000000e+00,  2.780985e+01,  4.961936e+01, ...,  3.312340e+00,\n",
       "                   1.156517e+00, -1.476620e-01],\n",
       "                 [ 1.000000e+00,  2.771966e+01,  4.855022e+01, ...,  2.996142e+00,\n",
       "                   2.967954e+00,  1.999594e+00],\n",
       "                 [ 2.000000e+00,  3.042670e+01,  3.347752e+01, ...,  7.306965e+00,\n",
       "                   5.736840e+00,  3.625628e+00],\n",
       "                 ...,\n",
       "                 [ 2.200000e+01,  0.000000e+00,  0.000000e+00, ...,  3.896037e+00,\n",
       "                   1.077756e+00,  0.000000e+00],\n",
       "                 [ 2.300000e+01,  1.229679e-03,  3.008948e+00, ...,  1.236256e-01,\n",
       "                   3.985531e+00, -1.835741e-01],\n",
       "                 [ 2.400000e+01,  0.000000e+00,  5.626141e+00, ...,  5.868994e+00,\n",
       "                   5.833817e+00,  3.568177e+00]])\n",
       " })]"
      ]
     },
     "execution_count": 19,
     "metadata": {},
     "output_type": "execute_result"
    }
   ],
   "source": [
    "data"
   ]
  },
  {
   "cell_type": "code",
   "execution_count": 20,
   "metadata": {
    "colab": {},
    "colab_type": "code",
    "id": "P1I027iUXrY-"
   },
   "outputs": [],
   "source": [
    "import plotly.plotly as py\n"
   ]
  },
  {
   "cell_type": "code",
   "execution_count": 21,
   "metadata": {
    "colab": {},
    "colab_type": "code",
    "id": "VwqM5et8XIYt"
   },
   "outputs": [],
   "source": [
    "layout = go.Layout(autosize=False,\n",
    "    width=500,\n",
    "    height=500,\n",
    "    margin=dict(\n",
    "        l=65,\n",
    "        r=50,\n",
    "        b=65,\n",
    "        t=90\n",
    "    )\n",
    ")"
   ]
  },
  {
   "cell_type": "code",
   "execution_count": 22,
   "metadata": {
    "colab": {
     "base_uri": "https://localhost:8080/",
     "height": 521
    },
    "colab_type": "code",
    "id": "uXrrbXRmXOag",
    "outputId": "d40bf4f1-621b-4948-aba8-26d4f5841890"
   },
   "outputs": [
    {
     "data": {
      "text/html": [
       "<iframe id=\"igraph\" scrolling=\"no\" style=\"border:none;\" seamless=\"seamless\" src=\"https://plot.ly/~blue.black83/16.embed\" height=\"500px\" width=\"500px\"></iframe>"
      ],
      "text/plain": [
       "<plotly.tools.PlotlyDisplay object>"
      ]
     },
     "execution_count": 22,
     "metadata": {},
     "output_type": "execute_result"
    }
   ],
   "source": [
    "fig = go.Figure(data=data, layout=layout)\n",
    "py.iplot(fig, filename='elevations-3d-surface')"
   ]
  },
  {
   "cell_type": "code",
   "execution_count": null,
   "metadata": {
    "colab": {},
    "colab_type": "code",
    "id": "h2WjAfJwX6CQ"
   },
   "outputs": [],
   "source": []
  }
 ],
 "metadata": {
  "colab": {
   "name": "contourplotly.ipynb",
   "provenance": [],
   "version": "0.3.2"
  },
  "kernelspec": {
   "display_name": "Python 3",
   "language": "python",
   "name": "python3"
  },
  "language_info": {
   "codemirror_mode": {
    "name": "ipython",
    "version": 3
   },
   "file_extension": ".py",
   "mimetype": "text/x-python",
   "name": "python",
   "nbconvert_exporter": "python",
   "pygments_lexer": "ipython3",
   "version": "3.6.8"
  }
 },
 "nbformat": 4,
 "nbformat_minor": 1
}
